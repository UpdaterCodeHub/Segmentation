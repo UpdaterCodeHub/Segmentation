{
 "cells": [
  {
   "cell_type": "code",
   "execution_count": 1,
   "id": "c3d06970",
   "metadata": {},
   "outputs": [],
   "source": [
    "import os\n",
    "import numpy as np\n",
    "import cv2\n",
    "from glob import glob\n",
    "from tqdm import tqdm\n",
    "import tensorflow as tf\n",
    "from sklearn.model_selection import train_test_split\n",
    "from tensorflow.keras import backend as K\n",
    "from tensorflow.keras.layers import Conv2D, BatchNormalization, Activation, MaxPool2D, Conv2DTranspose, Concatenate, Input\n",
    "from tensorflow.keras.models import Model\n",
    "from tensorflow.keras.callbacks import ModelCheckpoint, CSVLogger, ReduceLROnPlateau\n",
    "from tensorflow.keras.optimizers import Adam\n",
    "from tensorflow.keras.metrics import Recall, Precision\n",
    "from metrics import dice_loss, dice_coef, iou"
   ]
  },
  {
   "cell_type": "code",
   "execution_count": 2,
   "id": "f63fc094",
   "metadata": {},
   "outputs": [],
   "source": [
    "def iou(y_true, y_pred):\n",
    "    def f(y_true, y_pred):\n",
    "        intersection = (y_true * y_pred).sum()\n",
    "        union = y_true.sum() + y_pred.sum() - intersection\n",
    "        x = (intersection + 1e-15) / (union + 1e-15)\n",
    "        x = x.astype(np.float32)\n",
    "        return x\n",
    "    return tf.numpy_function(f, [y_true, y_pred], tf.float32)\n",
    "\n",
    "smooth = 1e-15\n",
    "\n",
    "\n",
    "def dice_coef(y_true, y_pred):\n",
    "    y_true = tf.keras.layers.Flatten()(y_true)\n",
    "    y_pred = tf.keras.layers.Flatten()(y_pred)\n",
    "    intersection = tf.reduce_sum(y_true * y_pred)\n",
    "    return (2. * intersection + smooth) / (tf.reduce_sum(y_true) + tf.reduce_sum(y_pred) + smooth)\n",
    "\n",
    "def dice_loss(y_true, y_pred):\n",
    "    return 1.0 - dice_coef(y_true, y_pred)"
   ]
  },
  {
   "cell_type": "code",
   "execution_count": 3,
   "id": "1bdccfe3",
   "metadata": {},
   "outputs": [],
   "source": [
    "\"\"\" Global parameters \"\"\"\n",
    "H = 512\n",
    "W = 512"
   ]
  },
  {
   "cell_type": "code",
   "execution_count": 4,
   "id": "dc8a22c6",
   "metadata": {},
   "outputs": [],
   "source": [
    "def create_dir(path):\n",
    "    \"\"\" Create a directory. \"\"\"\n",
    "    if not os.path.exists(path):\n",
    "        os.makedirs(path)"
   ]
  },
  {
   "cell_type": "code",
   "execution_count": 5,
   "id": "0ad3c84c",
   "metadata": {},
   "outputs": [],
   "source": [
    "def load_data(path, split=0.1):\n",
    "    images = sorted(glob(os.path.join(path, \"CXR_png\", \"*.png\")))\n",
    "    masks1 = sorted(glob(os.path.join(path, \"ManualMask\", \"leftMask\", \"*.png\")))\n",
    " \n",
    "\n",
    "    split_size = int(len(images) * split)\n",
    "\n",
    "    train_x, valid_x = train_test_split(images, test_size=split_size, random_state=42)\n",
    "    train_y1, valid_y1 = train_test_split(masks1, test_size=split_size, random_state=42)\n",
    " \n",
    "\n",
    "    train_x, test_x = train_test_split(train_x, test_size=split_size, random_state=42)\n",
    "    train_y1, test_y1 = train_test_split(train_y1, test_size=split_size, random_state=42)\n",
    " \n",
    "\n",
    "    return (train_x, train_y1 ), (valid_x, valid_y1 ), (test_x, test_y1 )"
   ]
  },
  {
   "cell_type": "code",
   "execution_count": 6,
   "id": "0a6d1d1b",
   "metadata": {},
   "outputs": [],
   "source": [
    "def read_image(path):\n",
    "    x = cv2.imread(path, cv2.IMREAD_COLOR)\n",
    "    x = cv2.resize(x, (W, H))\n",
    "    x = x/255.0\n",
    "    x = x.astype(np.float32)\n",
    "    return x"
   ]
  },
  {
   "cell_type": "code",
   "execution_count": 25,
   "id": "61d3ccb1",
   "metadata": {},
   "outputs": [],
   "source": [
    "def read_mask(path1):\n",
    "    x1 = cv2.imread(path1, cv2.IMREAD_GRAYSCALE)\n",
    "    \n",
    "    x = x1\n",
    "    x = cv2.resize(x, (W, H))\n",
    "    x = x/np.max(x)\n",
    "    x = x > 0.5\n",
    "    x = x.astype(np.float32)\n",
    "    x = np.expand_dims(x, axis=-1)\n",
    "    return x"
   ]
  },
  {
   "cell_type": "code",
   "execution_count": 26,
   "id": "de3aa989",
   "metadata": {},
   "outputs": [],
   "source": [
    "def tf_parse(x, y1 ):\n",
    "    def _parse(x, y1 ):\n",
    "        x = x.decode()\n",
    "        y1 = y1.decode()\n",
    "         \n",
    "\n",
    "        x = read_image(x)\n",
    "        y = read_mask(y1)\n",
    "        return x, y\n",
    "\n",
    "    x, y = tf.numpy_function(_parse, [x, y1], [tf.float32, tf.float32])\n",
    "    x.set_shape([H, W, 3])\n",
    "    y.set_shape([H, W, 1])\n",
    "    return x, y"
   ]
  },
  {
   "cell_type": "code",
   "execution_count": 27,
   "id": "4407a228",
   "metadata": {},
   "outputs": [],
   "source": [
    "def tf_dataset(X, Y1, batch=8):\n",
    "    dataset = tf.data.Dataset.from_tensor_slices((X, Y1))\n",
    "    dataset = dataset.shuffle(buffer_size=200)\n",
    "    dataset = dataset.map(tf_parse)\n",
    "    dataset = dataset.batch(batch)\n",
    "    dataset = dataset.prefetch(4)\n",
    "    return dataset"
   ]
  },
  {
   "cell_type": "code",
   "execution_count": 28,
   "id": "0cd4d16d",
   "metadata": {},
   "outputs": [],
   "source": [
    "\"\"\" Seeding \"\"\"\n",
    "np.random.seed(42)\n",
    "tf.random.set_seed(42)"
   ]
  },
  {
   "cell_type": "code",
   "execution_count": 29,
   "id": "4a617dee",
   "metadata": {},
   "outputs": [],
   "source": [
    "\"\"\" Directory for storing files \"\"\"\n",
    "create_dir(\"LeftMaskUPTfiles\")"
   ]
  },
  {
   "cell_type": "code",
   "execution_count": 30,
   "id": "79dc078d",
   "metadata": {},
   "outputs": [],
   "source": [
    "\"\"\" Hyperparameters \"\"\"\n",
    "batch_size = 2\n",
    "lr = 1e-5\n",
    "num_epochs = 30\n",
    "model_path = os.path.join(\"LeftMaskUPTfiles\", \"model.h5\")\n",
    "csv_path = os.path.join(\"LeftMaskUPTfiles\", \"data.csv\")"
   ]
  },
  {
   "cell_type": "code",
   "execution_count": 31,
   "id": "5bbd08ab",
   "metadata": {},
   "outputs": [
    {
     "name": "stdout",
     "output_type": "stream",
     "text": [
      "Train: 112 - 112 \n",
      "Valid: 13 - 13 \n",
      "Test: 13 - 13 \n"
     ]
    }
   ],
   "source": [
    "\"\"\" Dataset \"\"\"\n",
    "dataset_path = \"MontgomerySet\"\n",
    "(train_x, train_y), (valid_x, valid_y), (test_x, test_y) = load_data(dataset_path)\n",
    "\n",
    "print(f\"Train: {len(train_x)} - {len(train_y)} \")\n",
    "print(f\"Valid: {len(valid_x)} - {len(valid_y)} \")\n",
    "print(f\"Test: {len(test_x)} - {len(test_y)} \")\n"
   ]
  },
  {
   "cell_type": "code",
   "execution_count": 32,
   "id": "fc666baa",
   "metadata": {},
   "outputs": [],
   "source": [
    "train_dataset = tf_dataset(train_x, train_y, batch=batch_size)\n",
    "valid_dataset = tf_dataset(valid_x, valid_y, batch=batch_size)"
   ]
  },
  {
   "cell_type": "markdown",
   "id": "e85f0040",
   "metadata": {},
   "source": [
    "## Bulid Model"
   ]
  },
  {
   "cell_type": "code",
   "execution_count": 33,
   "id": "d2bea411",
   "metadata": {},
   "outputs": [
    {
     "data": {
      "text/plain": [
       "(56, 7)"
      ]
     },
     "execution_count": 33,
     "metadata": {},
     "output_type": "execute_result"
    }
   ],
   "source": [
    "len(train_dataset), len(valid_dataset)"
   ]
  },
  {
   "cell_type": "code",
   "execution_count": 34,
   "id": "cabb32a6",
   "metadata": {},
   "outputs": [],
   "source": [
    "\n",
    "def conv_block(input, num_filters):\n",
    "    x = Conv2D(num_filters, 3, padding=\"same\")(input)\n",
    "    x = BatchNormalization()(x)\n",
    "    x = Activation(\"relu\")(x)\n",
    "\n",
    "    x = Conv2D(num_filters, 3, padding=\"same\")(x)\n",
    "    x = BatchNormalization()(x)\n",
    "    x = Activation(\"relu\")(x)\n",
    "\n",
    "    return x\n",
    "\n",
    "def encoder_block(input, num_filters):\n",
    "    x = conv_block(input, num_filters)\n",
    "    p = MaxPool2D((2, 2))(x)\n",
    "    return x, p\n",
    "\n",
    "def decoder_block(input, skip_features, num_filters):\n",
    "    x = Conv2DTranspose(num_filters, (2, 2), strides=2, padding=\"same\")(input)\n",
    "    x = Concatenate()([x, skip_features])\n",
    "    x = conv_block(x, num_filters)\n",
    "    return x\n",
    "\n",
    "def build_unet(input_shape):\n",
    "    inputs = Input(input_shape)\n",
    "\n",
    "    s1, p1 = encoder_block(inputs, 64)\n",
    "    s2, p2 = encoder_block(p1, 128)\n",
    "    s3, p3 = encoder_block(p2, 256)\n",
    "    s4, p4 = encoder_block(p3, 512)\n",
    "\n",
    "    b1 = conv_block(p4, 1024)\n",
    "\n",
    "    d1 = decoder_block(b1, s4, 512)\n",
    "    d2 = decoder_block(d1, s3, 256)\n",
    "    d3 = decoder_block(d2, s2, 128)\n",
    "    d4 = decoder_block(d3, s1, 64)\n",
    "\n",
    "    outputs = Conv2D(1, 1, padding=\"same\", activation=\"sigmoid\")(d4)\n",
    "\n",
    "    model = Model(inputs, outputs, name=\"U-Net\")\n",
    "    return model"
   ]
  },
  {
   "cell_type": "code",
   "execution_count": 35,
   "id": "aaeab7b6",
   "metadata": {},
   "outputs": [
    {
     "name": "stdout",
     "output_type": "stream",
     "text": [
      "Model: \"U-Net\"\n",
      "__________________________________________________________________________________________________\n",
      " Layer (type)                   Output Shape         Param #     Connected to                     \n",
      "==================================================================================================\n",
      " input_4 (InputLayer)           [(None, 512, 512, 3  0           []                               \n",
      "                                )]                                                                \n",
      "                                                                                                  \n",
      " conv2d_57 (Conv2D)             (None, 512, 512, 64  1792        ['input_4[0][0]']                \n",
      "                                )                                                                 \n",
      "                                                                                                  \n",
      " batch_normalization_54 (BatchN  (None, 512, 512, 64  256        ['conv2d_57[0][0]']              \n",
      " ormalization)                  )                                                                 \n",
      "                                                                                                  \n",
      " activation_54 (Activation)     (None, 512, 512, 64  0           ['batch_normalization_54[0][0]'] \n",
      "                                )                                                                 \n",
      "                                                                                                  \n",
      " conv2d_58 (Conv2D)             (None, 512, 512, 64  36928       ['activation_54[0][0]']          \n",
      "                                )                                                                 \n",
      "                                                                                                  \n",
      " batch_normalization_55 (BatchN  (None, 512, 512, 64  256        ['conv2d_58[0][0]']              \n",
      " ormalization)                  )                                                                 \n",
      "                                                                                                  \n",
      " activation_55 (Activation)     (None, 512, 512, 64  0           ['batch_normalization_55[0][0]'] \n",
      "                                )                                                                 \n",
      "                                                                                                  \n",
      " max_pooling2d_12 (MaxPooling2D  (None, 256, 256, 64  0          ['activation_55[0][0]']          \n",
      " )                              )                                                                 \n",
      "                                                                                                  \n",
      " conv2d_59 (Conv2D)             (None, 256, 256, 12  73856       ['max_pooling2d_12[0][0]']       \n",
      "                                8)                                                                \n",
      "                                                                                                  \n",
      " batch_normalization_56 (BatchN  (None, 256, 256, 12  512        ['conv2d_59[0][0]']              \n",
      " ormalization)                  8)                                                                \n",
      "                                                                                                  \n",
      " activation_56 (Activation)     (None, 256, 256, 12  0           ['batch_normalization_56[0][0]'] \n",
      "                                8)                                                                \n",
      "                                                                                                  \n",
      " conv2d_60 (Conv2D)             (None, 256, 256, 12  147584      ['activation_56[0][0]']          \n",
      "                                8)                                                                \n",
      "                                                                                                  \n",
      " batch_normalization_57 (BatchN  (None, 256, 256, 12  512        ['conv2d_60[0][0]']              \n",
      " ormalization)                  8)                                                                \n",
      "                                                                                                  \n",
      " activation_57 (Activation)     (None, 256, 256, 12  0           ['batch_normalization_57[0][0]'] \n",
      "                                8)                                                                \n",
      "                                                                                                  \n",
      " max_pooling2d_13 (MaxPooling2D  (None, 128, 128, 12  0          ['activation_57[0][0]']          \n",
      " )                              8)                                                                \n",
      "                                                                                                  \n",
      " conv2d_61 (Conv2D)             (None, 128, 128, 25  295168      ['max_pooling2d_13[0][0]']       \n",
      "                                6)                                                                \n",
      "                                                                                                  \n",
      " batch_normalization_58 (BatchN  (None, 128, 128, 25  1024       ['conv2d_61[0][0]']              \n",
      " ormalization)                  6)                                                                \n",
      "                                                                                                  \n",
      " activation_58 (Activation)     (None, 128, 128, 25  0           ['batch_normalization_58[0][0]'] \n",
      "                                6)                                                                \n",
      "                                                                                                  \n",
      " conv2d_62 (Conv2D)             (None, 128, 128, 25  590080      ['activation_58[0][0]']          \n",
      "                                6)                                                                \n",
      "                                                                                                  \n",
      " batch_normalization_59 (BatchN  (None, 128, 128, 25  1024       ['conv2d_62[0][0]']              \n",
      " ormalization)                  6)                                                                \n",
      "                                                                                                  \n",
      " activation_59 (Activation)     (None, 128, 128, 25  0           ['batch_normalization_59[0][0]'] \n",
      "                                6)                                                                \n",
      "                                                                                                  \n",
      " max_pooling2d_14 (MaxPooling2D  (None, 64, 64, 256)  0          ['activation_59[0][0]']          \n",
      " )                                                                                                \n",
      "                                                                                                  \n",
      " conv2d_63 (Conv2D)             (None, 64, 64, 512)  1180160     ['max_pooling2d_14[0][0]']       \n",
      "                                                                                                  \n",
      " batch_normalization_60 (BatchN  (None, 64, 64, 512)  2048       ['conv2d_63[0][0]']              \n",
      " ormalization)                                                                                    \n",
      "                                                                                                  \n",
      " activation_60 (Activation)     (None, 64, 64, 512)  0           ['batch_normalization_60[0][0]'] \n",
      "                                                                                                  \n",
      " conv2d_64 (Conv2D)             (None, 64, 64, 512)  2359808     ['activation_60[0][0]']          \n",
      "                                                                                                  \n",
      " batch_normalization_61 (BatchN  (None, 64, 64, 512)  2048       ['conv2d_64[0][0]']              \n",
      " ormalization)                                                                                    \n",
      "                                                                                                  \n",
      " activation_61 (Activation)     (None, 64, 64, 512)  0           ['batch_normalization_61[0][0]'] \n",
      "                                                                                                  \n"
     ]
    },
    {
     "name": "stdout",
     "output_type": "stream",
     "text": [
      " max_pooling2d_15 (MaxPooling2D  (None, 32, 32, 512)  0          ['activation_61[0][0]']          \n",
      " )                                                                                                \n",
      "                                                                                                  \n",
      " conv2d_65 (Conv2D)             (None, 32, 32, 1024  4719616     ['max_pooling2d_15[0][0]']       \n",
      "                                )                                                                 \n",
      "                                                                                                  \n",
      " batch_normalization_62 (BatchN  (None, 32, 32, 1024  4096       ['conv2d_65[0][0]']              \n",
      " ormalization)                  )                                                                 \n",
      "                                                                                                  \n",
      " activation_62 (Activation)     (None, 32, 32, 1024  0           ['batch_normalization_62[0][0]'] \n",
      "                                )                                                                 \n",
      "                                                                                                  \n",
      " conv2d_66 (Conv2D)             (None, 32, 32, 1024  9438208     ['activation_62[0][0]']          \n",
      "                                )                                                                 \n",
      "                                                                                                  \n",
      " batch_normalization_63 (BatchN  (None, 32, 32, 1024  4096       ['conv2d_66[0][0]']              \n",
      " ormalization)                  )                                                                 \n",
      "                                                                                                  \n",
      " activation_63 (Activation)     (None, 32, 32, 1024  0           ['batch_normalization_63[0][0]'] \n",
      "                                )                                                                 \n",
      "                                                                                                  \n",
      " conv2d_transpose_12 (Conv2DTra  (None, 64, 64, 512)  2097664    ['activation_63[0][0]']          \n",
      " nspose)                                                                                          \n",
      "                                                                                                  \n",
      " concatenate_12 (Concatenate)   (None, 64, 64, 1024  0           ['conv2d_transpose_12[0][0]',    \n",
      "                                )                                 'activation_61[0][0]']          \n",
      "                                                                                                  \n",
      " conv2d_67 (Conv2D)             (None, 64, 64, 512)  4719104     ['concatenate_12[0][0]']         \n",
      "                                                                                                  \n",
      " batch_normalization_64 (BatchN  (None, 64, 64, 512)  2048       ['conv2d_67[0][0]']              \n",
      " ormalization)                                                                                    \n",
      "                                                                                                  \n",
      " activation_64 (Activation)     (None, 64, 64, 512)  0           ['batch_normalization_64[0][0]'] \n",
      "                                                                                                  \n",
      " conv2d_68 (Conv2D)             (None, 64, 64, 512)  2359808     ['activation_64[0][0]']          \n",
      "                                                                                                  \n",
      " batch_normalization_65 (BatchN  (None, 64, 64, 512)  2048       ['conv2d_68[0][0]']              \n",
      " ormalization)                                                                                    \n",
      "                                                                                                  \n",
      " activation_65 (Activation)     (None, 64, 64, 512)  0           ['batch_normalization_65[0][0]'] \n",
      "                                                                                                  \n",
      " conv2d_transpose_13 (Conv2DTra  (None, 128, 128, 25  524544     ['activation_65[0][0]']          \n",
      " nspose)                        6)                                                                \n",
      "                                                                                                  \n",
      " concatenate_13 (Concatenate)   (None, 128, 128, 51  0           ['conv2d_transpose_13[0][0]',    \n",
      "                                2)                                'activation_59[0][0]']          \n",
      "                                                                                                  \n",
      " conv2d_69 (Conv2D)             (None, 128, 128, 25  1179904     ['concatenate_13[0][0]']         \n",
      "                                6)                                                                \n",
      "                                                                                                  \n",
      " batch_normalization_66 (BatchN  (None, 128, 128, 25  1024       ['conv2d_69[0][0]']              \n",
      " ormalization)                  6)                                                                \n",
      "                                                                                                  \n",
      " activation_66 (Activation)     (None, 128, 128, 25  0           ['batch_normalization_66[0][0]'] \n",
      "                                6)                                                                \n",
      "                                                                                                  \n",
      " conv2d_70 (Conv2D)             (None, 128, 128, 25  590080      ['activation_66[0][0]']          \n",
      "                                6)                                                                \n",
      "                                                                                                  \n",
      " batch_normalization_67 (BatchN  (None, 128, 128, 25  1024       ['conv2d_70[0][0]']              \n",
      " ormalization)                  6)                                                                \n",
      "                                                                                                  \n",
      " activation_67 (Activation)     (None, 128, 128, 25  0           ['batch_normalization_67[0][0]'] \n",
      "                                6)                                                                \n",
      "                                                                                                  \n",
      " conv2d_transpose_14 (Conv2DTra  (None, 256, 256, 12  131200     ['activation_67[0][0]']          \n",
      " nspose)                        8)                                                                \n",
      "                                                                                                  \n",
      " concatenate_14 (Concatenate)   (None, 256, 256, 25  0           ['conv2d_transpose_14[0][0]',    \n",
      "                                6)                                'activation_57[0][0]']          \n",
      "                                                                                                  \n",
      " conv2d_71 (Conv2D)             (None, 256, 256, 12  295040      ['concatenate_14[0][0]']         \n",
      "                                8)                                                                \n",
      "                                                                                                  \n",
      " batch_normalization_68 (BatchN  (None, 256, 256, 12  512        ['conv2d_71[0][0]']              \n",
      " ormalization)                  8)                                                                \n",
      "                                                                                                  \n",
      " activation_68 (Activation)     (None, 256, 256, 12  0           ['batch_normalization_68[0][0]'] \n",
      "                                8)                                                                \n",
      "                                                                                                  \n",
      " conv2d_72 (Conv2D)             (None, 256, 256, 12  147584      ['activation_68[0][0]']          \n",
      "                                8)                                                                \n",
      "                                                                                                  \n"
     ]
    },
    {
     "name": "stdout",
     "output_type": "stream",
     "text": [
      " batch_normalization_69 (BatchN  (None, 256, 256, 12  512        ['conv2d_72[0][0]']              \n",
      " ormalization)                  8)                                                                \n",
      "                                                                                                  \n",
      " activation_69 (Activation)     (None, 256, 256, 12  0           ['batch_normalization_69[0][0]'] \n",
      "                                8)                                                                \n",
      "                                                                                                  \n",
      " conv2d_transpose_15 (Conv2DTra  (None, 512, 512, 64  32832      ['activation_69[0][0]']          \n",
      " nspose)                        )                                                                 \n",
      "                                                                                                  \n",
      " concatenate_15 (Concatenate)   (None, 512, 512, 12  0           ['conv2d_transpose_15[0][0]',    \n",
      "                                8)                                'activation_55[0][0]']          \n",
      "                                                                                                  \n",
      " conv2d_73 (Conv2D)             (None, 512, 512, 64  73792       ['concatenate_15[0][0]']         \n",
      "                                )                                                                 \n",
      "                                                                                                  \n",
      " batch_normalization_70 (BatchN  (None, 512, 512, 64  256        ['conv2d_73[0][0]']              \n",
      " ormalization)                  )                                                                 \n",
      "                                                                                                  \n",
      " activation_70 (Activation)     (None, 512, 512, 64  0           ['batch_normalization_70[0][0]'] \n",
      "                                )                                                                 \n",
      "                                                                                                  \n",
      " conv2d_74 (Conv2D)             (None, 512, 512, 64  36928       ['activation_70[0][0]']          \n",
      "                                )                                                                 \n",
      "                                                                                                  \n",
      " batch_normalization_71 (BatchN  (None, 512, 512, 64  256        ['conv2d_74[0][0]']              \n",
      " ormalization)                  )                                                                 \n",
      "                                                                                                  \n",
      " activation_71 (Activation)     (None, 512, 512, 64  0           ['batch_normalization_71[0][0]'] \n",
      "                                )                                                                 \n",
      "                                                                                                  \n",
      " conv2d_75 (Conv2D)             (None, 512, 512, 1)  65          ['activation_71[0][0]']          \n",
      "                                                                                                  \n",
      "==================================================================================================\n",
      "Total params: 31,055,297\n",
      "Trainable params: 31,043,521\n",
      "Non-trainable params: 11,776\n",
      "__________________________________________________________________________________________________\n"
     ]
    }
   ],
   "source": [
    "input_shape = (512, 512, 3)\n",
    "model = build_unet(input_shape)\n",
    "model.summary()"
   ]
  },
  {
   "cell_type": "code",
   "execution_count": 19,
   "id": "1c2fd1b6",
   "metadata": {},
   "outputs": [],
   "source": [
    "from tensorflow.keras.utils import CustomObjectScope"
   ]
  },
  {
   "cell_type": "code",
   "execution_count": 36,
   "id": "7266ee8d",
   "metadata": {},
   "outputs": [],
   "source": [
    "#with CustomObjectScope({'iou': iou, 'dice_coef': dice_coef, 'dice_loss': dice_loss}):\n",
    "model = build_unet((H, W, 3))\n",
    "metrics = [dice_coef, iou, Recall(), Precision()]"
   ]
  },
  {
   "cell_type": "code",
   "execution_count": 21,
   "id": "884e0daa",
   "metadata": {},
   "outputs": [],
   "source": [
    "mse_loss = tf.keras.losses.MeanSquaredError()"
   ]
  },
  {
   "cell_type": "code",
   "execution_count": 37,
   "id": "4c7dfe83",
   "metadata": {},
   "outputs": [],
   "source": [
    "model.compile(loss=dice_loss, optimizer=Adam(lr), metrics=metrics)\n"
   ]
  },
  {
   "cell_type": "code",
   "execution_count": 38,
   "id": "b00abaa6",
   "metadata": {},
   "outputs": [],
   "source": [
    "callbacks = [\n",
    "    ModelCheckpoint(model_path, verbose=1, save_best_only=True),\n",
    "    ReduceLROnPlateau(monitor='val_loss', factor=0.1, patience=5, min_lr=1e-7, verbose=1),\n",
    "    CSVLogger(csv_path)\n",
    "]\n"
   ]
  },
  {
   "cell_type": "code",
   "execution_count": 39,
   "id": "944f6a85",
   "metadata": {},
   "outputs": [
    {
     "name": "stdout",
     "output_type": "stream",
     "text": [
      "Epoch 1/30\n"
     ]
    },
    {
     "name": "stderr",
     "output_type": "stream",
     "text": [
      "2022-09-22 21:53:01.943788: I tensorflow/stream_executor/cuda/cuda_dnn.cc:384] Loaded cuDNN version 8204\n"
     ]
    },
    {
     "name": "stdout",
     "output_type": "stream",
     "text": [
      "56/56 [==============================] - ETA: 0s - loss: 0.6974 - dice_coef: 0.3026 - iou: 0.1792 - recall_1: 0.8538 - precision_1: 0.2512\n",
      "Epoch 1: val_loss improved from inf to 0.78204, saving model to LeftMaskUPTfiles/model.h5\n",
      "56/56 [==============================] - 42s 570ms/step - loss: 0.6974 - dice_coef: 0.3026 - iou: 0.1792 - recall_1: 0.8538 - precision_1: 0.2512 - val_loss: 0.7820 - val_dice_coef: 0.2134 - val_iou: 0.1201 - val_recall_1: 0.9933 - val_precision_1: 0.1452 - lr: 1.0000e-05\n",
      "Epoch 2/30\n",
      "56/56 [==============================] - ETA: 0s - loss: 0.5854 - dice_coef: 0.4146 - iou: 0.2637 - recall_1: 0.9347 - precision_1: 0.3337\n",
      "Epoch 2: val_loss improved from 0.78204 to 0.77133, saving model to LeftMaskUPTfiles/model.h5\n",
      "56/56 [==============================] - 33s 592ms/step - loss: 0.5854 - dice_coef: 0.4146 - iou: 0.2637 - recall_1: 0.9347 - precision_1: 0.3337 - val_loss: 0.7713 - val_dice_coef: 0.2252 - val_iou: 0.1278 - val_recall_1: 0.9952 - val_precision_1: 0.1462 - lr: 1.0000e-05\n",
      "Epoch 3/30\n",
      "56/56 [==============================] - ETA: 0s - loss: 0.4494 - dice_coef: 0.5506 - iou: 0.3827 - recall_1: 0.9705 - precision_1: 0.6535\n",
      "Epoch 3: val_loss improved from 0.77133 to 0.77033, saving model to LeftMaskUPTfiles/model.h5\n",
      "56/56 [==============================] - 33s 589ms/step - loss: 0.4494 - dice_coef: 0.5506 - iou: 0.3827 - recall_1: 0.9705 - precision_1: 0.6535 - val_loss: 0.7703 - val_dice_coef: 0.2261 - val_iou: 0.1278 - val_recall_1: 0.9244 - val_precision_1: 0.1856 - lr: 1.0000e-05\n",
      "Epoch 4/30\n",
      "56/56 [==============================] - ETA: 0s - loss: 0.3605 - dice_coef: 0.6395 - iou: 0.4736 - recall_1: 0.9761 - precision_1: 0.8232\n",
      "Epoch 4: val_loss did not improve from 0.77033\n",
      "56/56 [==============================] - 32s 569ms/step - loss: 0.3605 - dice_coef: 0.6395 - iou: 0.4736 - recall_1: 0.9761 - precision_1: 0.8232 - val_loss: 0.7909 - val_dice_coef: 0.2033 - val_iou: 0.1140 - val_recall_1: 0.1605 - val_precision_1: 0.0669 - lr: 1.0000e-05\n",
      "Epoch 5/30\n",
      "56/56 [==============================] - ETA: 0s - loss: 0.3032 - dice_coef: 0.6968 - iou: 0.5374 - recall_1: 0.9783 - precision_1: 0.9039\n",
      "Epoch 5: val_loss did not improve from 0.77033\n",
      "56/56 [==============================] - 33s 580ms/step - loss: 0.3032 - dice_coef: 0.6968 - iou: 0.5374 - recall_1: 0.9783 - precision_1: 0.9039 - val_loss: 0.8280 - val_dice_coef: 0.1734 - val_iou: 0.0953 - val_recall_1: 2.2212e-04 - val_precision_1: 0.0027 - lr: 1.0000e-05\n",
      "Epoch 6/30\n",
      "56/56 [==============================] - ETA: 0s - loss: 0.2740 - dice_coef: 0.7260 - iou: 0.5725 - recall_1: 0.9795 - precision_1: 0.9257\n",
      "Epoch 6: val_loss did not improve from 0.77033\n",
      "56/56 [==============================] - 32s 574ms/step - loss: 0.2740 - dice_coef: 0.7260 - iou: 0.5725 - recall_1: 0.9795 - precision_1: 0.9257 - val_loss: 0.8491 - val_dice_coef: 0.1486 - val_iou: 0.0804 - val_recall_1: 2.1992e-06 - val_precision_1: 9.4447e-05 - lr: 1.0000e-05\n",
      "Epoch 7/30\n",
      "56/56 [==============================] - ETA: 0s - loss: 0.2593 - dice_coef: 0.7407 - iou: 0.5906 - recall_1: 0.9771 - precision_1: 0.9394\n",
      "Epoch 7: val_loss did not improve from 0.77033\n",
      "56/56 [==============================] - 32s 570ms/step - loss: 0.2593 - dice_coef: 0.7407 - iou: 0.5906 - recall_1: 0.9771 - precision_1: 0.9394 - val_loss: 0.8413 - val_dice_coef: 0.1594 - val_iou: 0.0868 - val_recall_1: 0.0194 - val_precision_1: 0.6483 - lr: 1.0000e-05\n",
      "Epoch 8/30\n",
      "56/56 [==============================] - ETA: 0s - loss: 0.2468 - dice_coef: 0.7532 - iou: 0.6067 - recall_1: 0.9824 - precision_1: 0.9437\n",
      "Epoch 8: val_loss improved from 0.77033 to 0.55810, saving model to LeftMaskUPTfiles/model.h5\n",
      "56/56 [==============================] - 33s 583ms/step - loss: 0.2468 - dice_coef: 0.7532 - iou: 0.6067 - recall_1: 0.9824 - precision_1: 0.9437 - val_loss: 0.5581 - val_dice_coef: 0.4528 - val_iou: 0.2976 - val_recall_1: 0.4373 - val_precision_1: 0.8939 - lr: 1.0000e-05\n",
      "Epoch 9/30\n",
      "56/56 [==============================] - ETA: 0s - loss: 0.2347 - dice_coef: 0.7653 - iou: 0.6213 - recall_1: 0.9821 - precision_1: 0.9542\n",
      "Epoch 9: val_loss did not improve from 0.55810\n",
      "56/56 [==============================] - 32s 571ms/step - loss: 0.2347 - dice_coef: 0.7653 - iou: 0.6213 - recall_1: 0.9821 - precision_1: 0.9542 - val_loss: 0.5586 - val_dice_coef: 0.4291 - val_iou: 0.2766 - val_recall_1: 0.3863 - val_precision_1: 0.9891 - lr: 1.0000e-05\n",
      "Epoch 10/30\n",
      "56/56 [==============================] - ETA: 0s - loss: 0.2318 - dice_coef: 0.7682 - iou: 0.6261 - recall_1: 0.9836 - precision_1: 0.9554\n",
      "Epoch 10: val_loss improved from 0.55810 to 0.32465, saving model to LeftMaskUPTfiles/model.h5\n",
      "56/56 [==============================] - 33s 585ms/step - loss: 0.2318 - dice_coef: 0.7682 - iou: 0.6261 - recall_1: 0.9836 - precision_1: 0.9554 - val_loss: 0.3246 - val_dice_coef: 0.6631 - val_iou: 0.5001 - val_recall_1: 0.8109 - val_precision_1: 0.9384 - lr: 1.0000e-05\n",
      "Epoch 11/30\n",
      "56/56 [==============================] - ETA: 0s - loss: 0.2240 - dice_coef: 0.7760 - iou: 0.6364 - recall_1: 0.9834 - precision_1: 0.9608\n",
      "Epoch 11: val_loss improved from 0.32465 to 0.24731, saving model to LeftMaskUPTfiles/model.h5\n",
      "56/56 [==============================] - 33s 586ms/step - loss: 0.2240 - dice_coef: 0.7760 - iou: 0.6364 - recall_1: 0.9834 - precision_1: 0.9608 - val_loss: 0.2473 - val_dice_coef: 0.7577 - val_iou: 0.6121 - val_recall_1: 0.9257 - val_precision_1: 0.9784 - lr: 1.0000e-05\n",
      "Epoch 12/30\n",
      "56/56 [==============================] - ETA: 0s - loss: 0.2207 - dice_coef: 0.7793 - iou: 0.6416 - recall_1: 0.9841 - precision_1: 0.9629\n",
      "Epoch 12: val_loss improved from 0.24731 to 0.24034, saving model to LeftMaskUPTfiles/model.h5\n",
      "56/56 [==============================] - 33s 588ms/step - loss: 0.2207 - dice_coef: 0.7793 - iou: 0.6416 - recall_1: 0.9841 - precision_1: 0.9629 - val_loss: 0.2403 - val_dice_coef: 0.7619 - val_iou: 0.6197 - val_recall_1: 0.9709 - val_precision_1: 0.9536 - lr: 1.0000e-05\n",
      "Epoch 13/30\n",
      "56/56 [==============================] - ETA: 0s - loss: 0.2133 - dice_coef: 0.7867 - iou: 0.6501 - recall_1: 0.9855 - precision_1: 0.9638\n",
      "Epoch 13: val_loss improved from 0.24034 to 0.23033, saving model to LeftMaskUPTfiles/model.h5\n",
      "56/56 [==============================] - 33s 585ms/step - loss: 0.2133 - dice_coef: 0.7867 - iou: 0.6501 - recall_1: 0.9855 - precision_1: 0.9638 - val_loss: 0.2303 - val_dice_coef: 0.7712 - val_iou: 0.6294 - val_recall_1: 0.9537 - val_precision_1: 0.9741 - lr: 1.0000e-05\n",
      "Epoch 14/30\n",
      "56/56 [==============================] - ETA: 0s - loss: 0.2115 - dice_coef: 0.7885 - iou: 0.6534 - recall_1: 0.9853 - precision_1: 0.9672\n",
      "Epoch 14: val_loss improved from 0.23033 to 0.22585, saving model to LeftMaskUPTfiles/model.h5\n",
      "56/56 [==============================] - 33s 587ms/step - loss: 0.2115 - dice_coef: 0.7885 - iou: 0.6534 - recall_1: 0.9853 - precision_1: 0.9672 - val_loss: 0.2259 - val_dice_coef: 0.7802 - val_iou: 0.6427 - val_recall_1: 0.9763 - val_precision_1: 0.9419 - lr: 1.0000e-05\n",
      "Epoch 15/30\n",
      "56/56 [==============================] - ETA: 0s - loss: 0.2057 - dice_coef: 0.7943 - iou: 0.6607 - recall_1: 0.9874 - precision_1: 0.9682\n",
      "Epoch 15: val_loss did not improve from 0.22585\n",
      "56/56 [==============================] - 32s 571ms/step - loss: 0.2057 - dice_coef: 0.7943 - iou: 0.6607 - recall_1: 0.9874 - precision_1: 0.9682 - val_loss: 0.2772 - val_dice_coef: 0.7190 - val_iou: 0.5636 - val_recall_1: 0.9914 - val_precision_1: 0.7696 - lr: 1.0000e-05\n",
      "Epoch 16/30\n",
      "56/56 [==============================] - ETA: 0s - loss: 0.2058 - dice_coef: 0.7942 - iou: 0.6604 - recall_1: 0.9831 - precision_1: 0.9643\n",
      "Epoch 16: val_loss improved from 0.22585 to 0.21413, saving model to LeftMaskUPTfiles/model.h5\n",
      "56/56 [==============================] - 33s 583ms/step - loss: 0.2058 - dice_coef: 0.7942 - iou: 0.6604 - recall_1: 0.9831 - precision_1: 0.9643 - val_loss: 0.2141 - val_dice_coef: 0.7915 - val_iou: 0.6571 - val_recall_1: 0.9730 - val_precision_1: 0.9556 - lr: 1.0000e-05\n",
      "Epoch 17/30\n",
      "56/56 [==============================] - ETA: 0s - loss: 0.1990 - dice_coef: 0.8010 - iou: 0.6698 - recall_1: 0.9869 - precision_1: 0.9708\n",
      "Epoch 17: val_loss did not improve from 0.21413\n"
     ]
    },
    {
     "name": "stdout",
     "output_type": "stream",
     "text": [
      "56/56 [==============================] - 32s 573ms/step - loss: 0.1990 - dice_coef: 0.8010 - iou: 0.6698 - recall_1: 0.9869 - precision_1: 0.9708 - val_loss: 0.2171 - val_dice_coef: 0.7847 - val_iou: 0.6496 - val_recall_1: 0.9795 - val_precision_1: 0.9442 - lr: 1.0000e-05\n",
      "Epoch 18/30\n",
      "56/56 [==============================] - ETA: 0s - loss: 0.1974 - dice_coef: 0.8026 - iou: 0.6724 - recall_1: 0.9881 - precision_1: 0.9726\n",
      "Epoch 18: val_loss improved from 0.21413 to 0.20957, saving model to LeftMaskUPTfiles/model.h5\n",
      "56/56 [==============================] - 33s 585ms/step - loss: 0.1974 - dice_coef: 0.8026 - iou: 0.6724 - recall_1: 0.9881 - precision_1: 0.9726 - val_loss: 0.2096 - val_dice_coef: 0.7916 - val_iou: 0.6572 - val_recall_1: 0.9708 - val_precision_1: 0.9676 - lr: 1.0000e-05\n",
      "Epoch 19/30\n",
      "56/56 [==============================] - ETA: 0s - loss: 0.1932 - dice_coef: 0.8068 - iou: 0.6777 - recall_1: 0.9881 - precision_1: 0.9712\n",
      "Epoch 19: val_loss improved from 0.20957 to 0.20604, saving model to LeftMaskUPTfiles/model.h5\n",
      "56/56 [==============================] - 33s 585ms/step - loss: 0.1932 - dice_coef: 0.8068 - iou: 0.6777 - recall_1: 0.9881 - precision_1: 0.9712 - val_loss: 0.2060 - val_dice_coef: 0.7968 - val_iou: 0.6640 - val_recall_1: 0.9629 - val_precision_1: 0.9777 - lr: 1.0000e-05\n",
      "Epoch 20/30\n",
      "56/56 [==============================] - ETA: 0s - loss: 0.1915 - dice_coef: 0.8085 - iou: 0.6806 - recall_1: 0.9882 - precision_1: 0.9722\n",
      "Epoch 20: val_loss improved from 0.20604 to 0.20284, saving model to LeftMaskUPTfiles/model.h5\n",
      "56/56 [==============================] - 33s 581ms/step - loss: 0.1915 - dice_coef: 0.8085 - iou: 0.6806 - recall_1: 0.9882 - precision_1: 0.9722 - val_loss: 0.2028 - val_dice_coef: 0.7984 - val_iou: 0.6652 - val_recall_1: 0.9760 - val_precision_1: 0.9630 - lr: 1.0000e-05\n",
      "Epoch 21/30\n",
      "56/56 [==============================] - ETA: 0s - loss: 0.1894 - dice_coef: 0.8106 - iou: 0.6835 - recall_1: 0.9873 - precision_1: 0.9750\n",
      "Epoch 21: val_loss did not improve from 0.20284\n",
      "56/56 [==============================] - 32s 564ms/step - loss: 0.1894 - dice_coef: 0.8106 - iou: 0.6835 - recall_1: 0.9873 - precision_1: 0.9750 - val_loss: 0.2052 - val_dice_coef: 0.7995 - val_iou: 0.6690 - val_recall_1: 0.9739 - val_precision_1: 0.9583 - lr: 1.0000e-05\n",
      "Epoch 22/30\n",
      "56/56 [==============================] - ETA: 0s - loss: 0.1856 - dice_coef: 0.8144 - iou: 0.6888 - recall_1: 0.9894 - precision_1: 0.9757\n",
      "Epoch 22: val_loss did not improve from 0.20284\n",
      "56/56 [==============================] - 32s 565ms/step - loss: 0.1856 - dice_coef: 0.8144 - iou: 0.6888 - recall_1: 0.9894 - precision_1: 0.9757 - val_loss: 0.2041 - val_dice_coef: 0.7977 - val_iou: 0.6663 - val_recall_1: 0.9760 - val_precision_1: 0.9551 - lr: 1.0000e-05\n",
      "Epoch 23/30\n",
      "56/56 [==============================] - ETA: 0s - loss: 0.1867 - dice_coef: 0.8133 - iou: 0.6884 - recall_1: 0.9884 - precision_1: 0.9724\n",
      "Epoch 23: val_loss improved from 0.20284 to 0.19591, saving model to LeftMaskUPTfiles/model.h5\n",
      "56/56 [==============================] - 33s 580ms/step - loss: 0.1867 - dice_coef: 0.8133 - iou: 0.6884 - recall_1: 0.9884 - precision_1: 0.9724 - val_loss: 0.1959 - val_dice_coef: 0.8061 - val_iou: 0.6761 - val_recall_1: 0.9815 - val_precision_1: 0.9423 - lr: 1.0000e-05\n",
      "Epoch 24/30\n",
      "56/56 [==============================] - ETA: 0s - loss: 0.1839 - dice_coef: 0.8161 - iou: 0.6918 - recall_1: 0.9883 - precision_1: 0.9738\n",
      "Epoch 24: val_loss did not improve from 0.19591\n",
      "56/56 [==============================] - 32s 566ms/step - loss: 0.1839 - dice_coef: 0.8161 - iou: 0.6918 - recall_1: 0.9883 - precision_1: 0.9738 - val_loss: 0.1993 - val_dice_coef: 0.8023 - val_iou: 0.6739 - val_recall_1: 0.9727 - val_precision_1: 0.9637 - lr: 1.0000e-05\n",
      "Epoch 25/30\n",
      "56/56 [==============================] - ETA: 0s - loss: 0.1791 - dice_coef: 0.8209 - iou: 0.6979 - recall_1: 0.9884 - precision_1: 0.9760\n",
      "Epoch 25: val_loss did not improve from 0.19591\n",
      "56/56 [==============================] - 32s 564ms/step - loss: 0.1791 - dice_coef: 0.8209 - iou: 0.6979 - recall_1: 0.9884 - precision_1: 0.9760 - val_loss: 0.1979 - val_dice_coef: 0.7886 - val_iou: 0.6573 - val_recall_1: 0.9664 - val_precision_1: 0.9781 - lr: 1.0000e-05\n",
      "Epoch 26/30\n",
      "56/56 [==============================] - ETA: 0s - loss: 0.1760 - dice_coef: 0.8240 - iou: 0.7024 - recall_1: 0.9903 - precision_1: 0.9772\n",
      "Epoch 26: val_loss improved from 0.19591 to 0.18817, saving model to LeftMaskUPTfiles/model.h5\n",
      "56/56 [==============================] - 33s 580ms/step - loss: 0.1760 - dice_coef: 0.8240 - iou: 0.7024 - recall_1: 0.9903 - precision_1: 0.9772 - val_loss: 0.1882 - val_dice_coef: 0.8167 - val_iou: 0.6916 - val_recall_1: 0.9693 - val_precision_1: 0.9753 - lr: 1.0000e-05\n",
      "Epoch 27/30\n",
      "56/56 [==============================] - ETA: 0s - loss: 0.1725 - dice_coef: 0.8275 - iou: 0.7070 - recall_1: 0.9908 - precision_1: 0.9787\n",
      "Epoch 27: val_loss did not improve from 0.18817\n",
      "56/56 [==============================] - 32s 567ms/step - loss: 0.1725 - dice_coef: 0.8275 - iou: 0.7070 - recall_1: 0.9908 - precision_1: 0.9787 - val_loss: 0.1935 - val_dice_coef: 0.8083 - val_iou: 0.6811 - val_recall_1: 0.9800 - val_precision_1: 0.9543 - lr: 1.0000e-05\n",
      "Epoch 28/30\n",
      "56/56 [==============================] - ETA: 0s - loss: 0.1708 - dice_coef: 0.8292 - iou: 0.7097 - recall_1: 0.9910 - precision_1: 0.9792\n",
      "Epoch 28: val_loss did not improve from 0.18817\n",
      "56/56 [==============================] - 32s 566ms/step - loss: 0.1708 - dice_coef: 0.8292 - iou: 0.7097 - recall_1: 0.9910 - precision_1: 0.9792 - val_loss: 0.1893 - val_dice_coef: 0.8160 - val_iou: 0.6919 - val_recall_1: 0.9696 - val_precision_1: 0.9759 - lr: 1.0000e-05\n",
      "Epoch 29/30\n",
      "56/56 [==============================] - ETA: 0s - loss: 0.1682 - dice_coef: 0.8318 - iou: 0.7135 - recall_1: 0.9913 - precision_1: 0.9806\n",
      "Epoch 29: val_loss improved from 0.18817 to 0.18717, saving model to LeftMaskUPTfiles/model.h5\n",
      "56/56 [==============================] - 33s 580ms/step - loss: 0.1682 - dice_coef: 0.8318 - iou: 0.7135 - recall_1: 0.9913 - precision_1: 0.9806 - val_loss: 0.1872 - val_dice_coef: 0.8155 - val_iou: 0.6903 - val_recall_1: 0.9690 - val_precision_1: 0.9725 - lr: 1.0000e-05\n",
      "Epoch 30/30\n",
      "56/56 [==============================] - ETA: 0s - loss: 0.1660 - dice_coef: 0.8340 - iou: 0.7167 - recall_1: 0.9919 - precision_1: 0.9804\n",
      "Epoch 30: val_loss did not improve from 0.18717\n",
      "56/56 [==============================] - 32s 565ms/step - loss: 0.1660 - dice_coef: 0.8340 - iou: 0.7167 - recall_1: 0.9919 - precision_1: 0.9804 - val_loss: 0.1898 - val_dice_coef: 0.8031 - val_iou: 0.6751 - val_recall_1: 0.9703 - val_precision_1: 0.9724 - lr: 1.0000e-05\n"
     ]
    },
    {
     "data": {
      "text/plain": [
       "<keras.callbacks.History at 0x7f073c6ba640>"
      ]
     },
     "execution_count": 39,
     "metadata": {},
     "output_type": "execute_result"
    }
   ],
   "source": [
    "model.fit(\n",
    "    train_dataset,\n",
    "    epochs=num_epochs,\n",
    "    validation_data=valid_dataset,\n",
    "    callbacks=callbacks\n",
    ")"
   ]
  },
  {
   "cell_type": "code",
   "execution_count": 40,
   "id": "58da7d76",
   "metadata": {},
   "outputs": [
    {
     "name": "stderr",
     "output_type": "stream",
     "text": [
      "\r",
      "  0%|                                                    | 0/13 [00:00<?, ?it/s]"
     ]
    },
    {
     "name": "stdout",
     "output_type": "stream",
     "text": [
      "1/1 [==============================] - 0s 294ms/step\n"
     ]
    },
    {
     "name": "stderr",
     "output_type": "stream",
     "text": [
      "\r",
      "  8%|███▍                                        | 1/13 [00:00<00:07,  1.69it/s]"
     ]
    },
    {
     "name": "stdout",
     "output_type": "stream",
     "text": [
      "1/1 [==============================] - 0s 20ms/step\n"
     ]
    },
    {
     "name": "stderr",
     "output_type": "stream",
     "text": [
      "\r",
      " 15%|██████▊                                     | 2/13 [00:00<00:04,  2.27it/s]"
     ]
    },
    {
     "name": "stdout",
     "output_type": "stream",
     "text": [
      "1/1 [==============================] - 0s 20ms/step\n"
     ]
    },
    {
     "name": "stderr",
     "output_type": "stream",
     "text": [
      "\r",
      " 23%|██████████▏                                 | 3/13 [00:01<00:04,  2.50it/s]"
     ]
    },
    {
     "name": "stdout",
     "output_type": "stream",
     "text": [
      "1/1 [==============================] - 0s 20ms/step\n"
     ]
    },
    {
     "name": "stderr",
     "output_type": "stream",
     "text": [
      "\r",
      " 31%|█████████████▌                              | 4/13 [00:01<00:03,  2.61it/s]"
     ]
    },
    {
     "name": "stdout",
     "output_type": "stream",
     "text": [
      "1/1 [==============================] - 0s 19ms/step\n"
     ]
    },
    {
     "name": "stderr",
     "output_type": "stream",
     "text": [
      "\r",
      " 38%|████████████████▉                           | 5/13 [00:01<00:02,  2.76it/s]"
     ]
    },
    {
     "name": "stdout",
     "output_type": "stream",
     "text": [
      "1/1 [==============================] - 0s 21ms/step\n"
     ]
    },
    {
     "name": "stderr",
     "output_type": "stream",
     "text": [
      "\r",
      " 46%|████████████████████▎                       | 6/13 [00:02<00:02,  2.70it/s]"
     ]
    },
    {
     "name": "stdout",
     "output_type": "stream",
     "text": [
      "1/1 [==============================] - 0s 19ms/step\n"
     ]
    },
    {
     "name": "stderr",
     "output_type": "stream",
     "text": [
      "\r",
      " 54%|███████████████████████▋                    | 7/13 [00:02<00:02,  2.81it/s]"
     ]
    },
    {
     "name": "stdout",
     "output_type": "stream",
     "text": [
      "1/1 [==============================] - 0s 20ms/step\n"
     ]
    },
    {
     "name": "stderr",
     "output_type": "stream",
     "text": [
      "\r",
      " 62%|███████████████████████████                 | 8/13 [00:03<00:01,  2.85it/s]"
     ]
    },
    {
     "name": "stdout",
     "output_type": "stream",
     "text": [
      "1/1 [==============================] - 0s 20ms/step\n"
     ]
    },
    {
     "name": "stderr",
     "output_type": "stream",
     "text": [
      "\r",
      " 69%|██████████████████████████████▍             | 9/13 [00:03<00:01,  2.89it/s]"
     ]
    },
    {
     "name": "stdout",
     "output_type": "stream",
     "text": [
      "1/1 [==============================] - 0s 21ms/step\n"
     ]
    },
    {
     "name": "stderr",
     "output_type": "stream",
     "text": [
      "\r",
      " 77%|█████████████████████████████████          | 10/13 [00:03<00:01,  2.97it/s]"
     ]
    },
    {
     "name": "stdout",
     "output_type": "stream",
     "text": [
      "1/1 [==============================] - 0s 25ms/step\n"
     ]
    },
    {
     "name": "stderr",
     "output_type": "stream",
     "text": [
      "\r",
      " 85%|████████████████████████████████████▍      | 11/13 [00:04<00:00,  2.88it/s]"
     ]
    },
    {
     "name": "stdout",
     "output_type": "stream",
     "text": [
      "1/1 [==============================] - 0s 20ms/step\n"
     ]
    },
    {
     "name": "stderr",
     "output_type": "stream",
     "text": [
      "\r",
      " 92%|███████████████████████████████████████▋   | 12/13 [00:04<00:00,  2.94it/s]"
     ]
    },
    {
     "name": "stdout",
     "output_type": "stream",
     "text": [
      "1/1 [==============================] - 0s 20ms/step\n"
     ]
    },
    {
     "name": "stderr",
     "output_type": "stream",
     "text": [
      "100%|███████████████████████████████████████████| 13/13 [00:04<00:00,  2.76it/s]\n"
     ]
    }
   ],
   "source": [
    "\"\"\" Predicting the mask \"\"\"\n",
    "for x, y in tqdm(zip(test_x, test_y), total=len(test_x)):\n",
    "    \"\"\" Extracing the image name. \"\"\"\n",
    "    image_name = x.split(\"/\")[-1]\n",
    "\n",
    "    \"\"\" Reading the image \"\"\"\n",
    "    ori_x = cv2.imread(x, cv2.IMREAD_COLOR)\n",
    "    ori_x = cv2.resize(ori_x, (W, H))\n",
    "    x = ori_x/255.0\n",
    "    x = x.astype(np.float32)\n",
    "    x = np.expand_dims(x, axis=0)\n",
    "\n",
    "    \"\"\" Reading the mask \"\"\"\n",
    "    ori_y = cv2.imread(y, cv2.IMREAD_GRAYSCALE)\n",
    "    ori_y = cv2.resize(ori_y, (W, H))\n",
    "    ori_y = np.expand_dims(ori_y, axis=-1)  ## (512, 512, 1)\n",
    "    ori_y = np.concatenate([ori_y, ori_y, ori_y], axis=-1)  ## (512, 512, 3)\n",
    "\n",
    "    \"\"\" Predicting the mask. \"\"\"\n",
    "    y_pred = model.predict(x)[0] > 0.5\n",
    "    y_pred = y_pred.astype(np.int32)\n",
    "\n",
    "    \"\"\" Saving the predicted mask along with the image and GT \"\"\"\n",
    "    save_image_path = f\"LeftMaskUPTfiles/Result/{image_name}\"\n",
    "    y_pred = np.concatenate([y_pred, y_pred, y_pred], axis=-1)\n",
    "\n",
    "    sep_line = np.ones((H, 10, 3)) * 255\n",
    "\n",
    "    cat_image = np.concatenate([ori_x, sep_line, ori_y, sep_line, y_pred*255], axis=1)\n",
    "    cv2.imwrite(save_image_path, cat_image)"
   ]
  },
  {
   "cell_type": "code",
   "execution_count": null,
   "id": "f086f094",
   "metadata": {},
   "outputs": [],
   "source": []
  },
  {
   "cell_type": "code",
   "execution_count": null,
   "id": "25d3d30c",
   "metadata": {},
   "outputs": [],
   "source": []
  }
 ],
 "metadata": {
  "kernelspec": {
   "display_name": "Python 3 (ipykernel)",
   "language": "python",
   "name": "python3"
  },
  "language_info": {
   "codemirror_mode": {
    "name": "ipython",
    "version": 3
   },
   "file_extension": ".py",
   "mimetype": "text/x-python",
   "name": "python",
   "nbconvert_exporter": "python",
   "pygments_lexer": "ipython3",
   "version": "3.9.12"
  }
 },
 "nbformat": 4,
 "nbformat_minor": 5
}
