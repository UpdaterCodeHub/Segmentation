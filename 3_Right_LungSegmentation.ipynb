{
 "cells": [
  {
   "cell_type": "code",
   "execution_count": 1,
   "id": "c3d06970",
   "metadata": {},
   "outputs": [],
   "source": [
    "import os\n",
    "import numpy as np\n",
    "import cv2\n",
    "from glob import glob\n",
    "from tqdm import tqdm\n",
    "import tensorflow as tf\n",
    "from sklearn.model_selection import train_test_split\n",
    "from tensorflow.keras import backend as K\n",
    "from tensorflow.keras.layers import Conv2D, BatchNormalization, Activation, MaxPool2D, Conv2DTranspose, Concatenate, Input\n",
    "from tensorflow.keras.models import Model\n",
    "from tensorflow.keras.callbacks import ModelCheckpoint, CSVLogger, ReduceLROnPlateau\n",
    "from tensorflow.keras.optimizers import Adam\n",
    "from tensorflow.keras.metrics import Recall, Precision\n",
    "from metrics import dice_loss, dice_coef, iou"
   ]
  },
  {
   "cell_type": "code",
   "execution_count": 2,
   "id": "f63fc094",
   "metadata": {},
   "outputs": [],
   "source": [
    "def iou(y_true, y_pred):\n",
    "    def f(y_true, y_pred):\n",
    "        intersection = (y_true * y_pred).sum()\n",
    "        union = y_true.sum() + y_pred.sum() - intersection\n",
    "        x = (intersection + 1e-15) / (union + 1e-15)\n",
    "        x = x.astype(np.float32)\n",
    "        return x\n",
    "    return tf.numpy_function(f, [y_true, y_pred], tf.float32)\n",
    "\n",
    "smooth = 1e-15\n",
    "\n",
    "\n",
    "def dice_coef(y_true, y_pred):\n",
    "    y_true = tf.keras.layers.Flatten()(y_true)\n",
    "    y_pred = tf.keras.layers.Flatten()(y_pred)\n",
    "    intersection = tf.reduce_sum(y_true * y_pred)\n",
    "    return (2. * intersection + smooth) / (tf.reduce_sum(y_true) + tf.reduce_sum(y_pred) + smooth)\n",
    "\n",
    "def dice_loss(y_true, y_pred):\n",
    "    return 1.0 - dice_coef(y_true, y_pred)"
   ]
  },
  {
   "cell_type": "code",
   "execution_count": 3,
   "id": "1bdccfe3",
   "metadata": {},
   "outputs": [],
   "source": [
    "\"\"\" Global parameters \"\"\"\n",
    "H = 512\n",
    "W = 512"
   ]
  },
  {
   "cell_type": "code",
   "execution_count": 4,
   "id": "dc8a22c6",
   "metadata": {},
   "outputs": [],
   "source": [
    "def create_dir(path):\n",
    "    \"\"\" Create a directory. \"\"\"\n",
    "    if not os.path.exists(path):\n",
    "        os.makedirs(path)"
   ]
  },
  {
   "cell_type": "code",
   "execution_count": 5,
   "id": "0ad3c84c",
   "metadata": {},
   "outputs": [],
   "source": [
    "def load_data(path, split=0.1):\n",
    "    images = sorted(glob(os.path.join(path, \"CXR_png\", \"*.png\")))\n",
    "    masks1 = sorted(glob(os.path.join(path, \"ManualMask\", \"rightMask\", \"*.png\")))\n",
    " \n",
    "\n",
    "    split_size = int(len(images) * split)\n",
    "\n",
    "    train_x, valid_x = train_test_split(images, test_size=split_size, random_state=42)\n",
    "    train_y1, valid_y1 = train_test_split(masks1, test_size=split_size, random_state=42)\n",
    " \n",
    "\n",
    "    train_x, test_x = train_test_split(train_x, test_size=split_size, random_state=42)\n",
    "    train_y1, test_y1 = train_test_split(train_y1, test_size=split_size, random_state=42)\n",
    " \n",
    "\n",
    "    return (train_x, train_y1 ), (valid_x, valid_y1 ), (test_x, test_y1 )"
   ]
  },
  {
   "cell_type": "code",
   "execution_count": 6,
   "id": "0a6d1d1b",
   "metadata": {},
   "outputs": [],
   "source": [
    "def read_image(path):\n",
    "    x = cv2.imread(path, cv2.IMREAD_COLOR)\n",
    "    x = cv2.resize(x, (W, H))\n",
    "    x = x/255.0\n",
    "    x = x.astype(np.float32)\n",
    "    return x"
   ]
  },
  {
   "cell_type": "code",
   "execution_count": 7,
   "id": "61d3ccb1",
   "metadata": {},
   "outputs": [],
   "source": [
    "def read_mask(path1):\n",
    "    x1 = cv2.imread(path1, cv2.IMREAD_GRAYSCALE)\n",
    "    \n",
    "    x = x1\n",
    "    x = cv2.resize(x, (W, H))\n",
    "    x = x/np.max(x)\n",
    "    x = x > 0.5\n",
    "    x = x.astype(np.float32)\n",
    "    x = np.expand_dims(x, axis=-1)\n",
    "    return x"
   ]
  },
  {
   "cell_type": "code",
   "execution_count": 8,
   "id": "de3aa989",
   "metadata": {},
   "outputs": [],
   "source": [
    "def tf_parse(x, y1 ):\n",
    "    def _parse(x, y1 ):\n",
    "        x = x.decode()\n",
    "        y1 = y1.decode()\n",
    "         \n",
    "\n",
    "        x = read_image(x)\n",
    "        y = read_mask(y1)\n",
    "        return x, y\n",
    "\n",
    "    x, y = tf.numpy_function(_parse, [x, y1], [tf.float32, tf.float32])\n",
    "    x.set_shape([H, W, 3])\n",
    "    y.set_shape([H, W, 1])\n",
    "    return x, y"
   ]
  },
  {
   "cell_type": "code",
   "execution_count": 9,
   "id": "4407a228",
   "metadata": {},
   "outputs": [],
   "source": [
    "def tf_dataset(X, Y1, batch=8):\n",
    "    dataset = tf.data.Dataset.from_tensor_slices((X, Y1))\n",
    "    dataset = dataset.shuffle(buffer_size=200)\n",
    "    dataset = dataset.map(tf_parse)\n",
    "    dataset = dataset.batch(batch)\n",
    "    dataset = dataset.prefetch(4)\n",
    "    return dataset"
   ]
  },
  {
   "cell_type": "code",
   "execution_count": 10,
   "id": "0cd4d16d",
   "metadata": {},
   "outputs": [],
   "source": [
    "\"\"\" Seeding \"\"\"\n",
    "np.random.seed(42)\n",
    "tf.random.set_seed(42)"
   ]
  },
  {
   "cell_type": "code",
   "execution_count": 11,
   "id": "4a617dee",
   "metadata": {},
   "outputs": [],
   "source": [
    "\"\"\" Directory for storing files \"\"\"\n",
    "create_dir(\"RightMaskUPTfiles\")"
   ]
  },
  {
   "cell_type": "code",
   "execution_count": 12,
   "id": "79dc078d",
   "metadata": {},
   "outputs": [],
   "source": [
    "\"\"\" Hyperparameters \"\"\"\n",
    "batch_size = 2\n",
    "lr = 1e-5\n",
    "num_epochs = 30\n",
    "model_path = os.path.join(\"RightMaskUPTfiles\", \"model.h5\")\n",
    "csv_path = os.path.join(\"RightMaskUPTfiles\", \"data.csv\")"
   ]
  },
  {
   "cell_type": "code",
   "execution_count": 13,
   "id": "5bbd08ab",
   "metadata": {},
   "outputs": [
    {
     "name": "stdout",
     "output_type": "stream",
     "text": [
      "Train: 112 - 112 \n",
      "Valid: 13 - 13 \n",
      "Test: 13 - 13 \n"
     ]
    }
   ],
   "source": [
    "\"\"\" Dataset \"\"\"\n",
    "dataset_path = \"MontgomerySet\"\n",
    "(train_x, train_y), (valid_x, valid_y), (test_x, test_y) = load_data(dataset_path)\n",
    "\n",
    "print(f\"Train: {len(train_x)} - {len(train_y)} \")\n",
    "print(f\"Valid: {len(valid_x)} - {len(valid_y)} \")\n",
    "print(f\"Test: {len(test_x)} - {len(test_y)} \")\n"
   ]
  },
  {
   "cell_type": "code",
   "execution_count": 14,
   "id": "fc666baa",
   "metadata": {},
   "outputs": [
    {
     "name": "stderr",
     "output_type": "stream",
     "text": [
      "2022-09-23 08:50:13.538238: I tensorflow/core/platform/cpu_feature_guard.cc:193] This TensorFlow binary is optimized with oneAPI Deep Neural Network Library (oneDNN) to use the following CPU instructions in performance-critical operations:  AVX2 AVX512F FMA\n",
      "To enable them in other operations, rebuild TensorFlow with the appropriate compiler flags.\n",
      "2022-09-23 08:50:14.714227: I tensorflow/core/common_runtime/gpu/gpu_device.cc:1532] Created device /job:localhost/replica:0/task:0/device:GPU:0 with 30624 MB memory:  -> device: 0, name: Quadro GV100, pci bus id: 0000:65:00.0, compute capability: 7.0\n"
     ]
    }
   ],
   "source": [
    "train_dataset = tf_dataset(train_x, train_y, batch=batch_size)\n",
    "valid_dataset = tf_dataset(valid_x, valid_y, batch=batch_size)"
   ]
  },
  {
   "cell_type": "markdown",
   "id": "e85f0040",
   "metadata": {},
   "source": [
    "## Bulid Model"
   ]
  },
  {
   "cell_type": "code",
   "execution_count": 15,
   "id": "d2bea411",
   "metadata": {},
   "outputs": [
    {
     "data": {
      "text/plain": [
       "(56, 7)"
      ]
     },
     "execution_count": 15,
     "metadata": {},
     "output_type": "execute_result"
    }
   ],
   "source": [
    "len(train_dataset), len(valid_dataset)"
   ]
  },
  {
   "cell_type": "code",
   "execution_count": 16,
   "id": "cabb32a6",
   "metadata": {},
   "outputs": [],
   "source": [
    "\n",
    "def conv_block(input, num_filters):\n",
    "    x = Conv2D(num_filters, 3, padding=\"same\")(input)\n",
    "    x = BatchNormalization()(x)\n",
    "    x = Activation(\"relu\")(x)\n",
    "\n",
    "    x = Conv2D(num_filters, 3, padding=\"same\")(x)\n",
    "    x = BatchNormalization()(x)\n",
    "    x = Activation(\"relu\")(x)\n",
    "\n",
    "    return x\n",
    "\n",
    "def encoder_block(input, num_filters):\n",
    "    x = conv_block(input, num_filters)\n",
    "    p = MaxPool2D((2, 2))(x)\n",
    "    return x, p\n",
    "\n",
    "def decoder_block(input, skip_features, num_filters):\n",
    "    x = Conv2DTranspose(num_filters, (2, 2), strides=2, padding=\"same\")(input)\n",
    "    x = Concatenate()([x, skip_features])\n",
    "    x = conv_block(x, num_filters)\n",
    "    return x\n",
    "\n",
    "def build_unet(input_shape):\n",
    "    inputs = Input(input_shape)\n",
    "\n",
    "    s1, p1 = encoder_block(inputs, 64)\n",
    "    s2, p2 = encoder_block(p1, 128)\n",
    "    s3, p3 = encoder_block(p2, 256)\n",
    "    s4, p4 = encoder_block(p3, 512)\n",
    "\n",
    "    b1 = conv_block(p4, 1024)\n",
    "\n",
    "    d1 = decoder_block(b1, s4, 512)\n",
    "    d2 = decoder_block(d1, s3, 256)\n",
    "    d3 = decoder_block(d2, s2, 128)\n",
    "    d4 = decoder_block(d3, s1, 64)\n",
    "\n",
    "    outputs = Conv2D(1, 1, padding=\"same\", activation=\"sigmoid\")(d4)\n",
    "\n",
    "    model = Model(inputs, outputs, name=\"U-Net\")\n",
    "    return model"
   ]
  },
  {
   "cell_type": "code",
   "execution_count": 17,
   "id": "aaeab7b6",
   "metadata": {},
   "outputs": [
    {
     "name": "stdout",
     "output_type": "stream",
     "text": [
      "Model: \"U-Net\"\n",
      "__________________________________________________________________________________________________\n",
      " Layer (type)                   Output Shape         Param #     Connected to                     \n",
      "==================================================================================================\n",
      " input_1 (InputLayer)           [(None, 512, 512, 3  0           []                               \n",
      "                                )]                                                                \n",
      "                                                                                                  \n",
      " conv2d (Conv2D)                (None, 512, 512, 64  1792        ['input_1[0][0]']                \n",
      "                                )                                                                 \n",
      "                                                                                                  \n",
      " batch_normalization (BatchNorm  (None, 512, 512, 64  256        ['conv2d[0][0]']                 \n",
      " alization)                     )                                                                 \n",
      "                                                                                                  \n",
      " activation (Activation)        (None, 512, 512, 64  0           ['batch_normalization[0][0]']    \n",
      "                                )                                                                 \n",
      "                                                                                                  \n",
      " conv2d_1 (Conv2D)              (None, 512, 512, 64  36928       ['activation[0][0]']             \n",
      "                                )                                                                 \n",
      "                                                                                                  \n",
      " batch_normalization_1 (BatchNo  (None, 512, 512, 64  256        ['conv2d_1[0][0]']               \n",
      " rmalization)                   )                                                                 \n",
      "                                                                                                  \n",
      " activation_1 (Activation)      (None, 512, 512, 64  0           ['batch_normalization_1[0][0]']  \n",
      "                                )                                                                 \n",
      "                                                                                                  \n",
      " max_pooling2d (MaxPooling2D)   (None, 256, 256, 64  0           ['activation_1[0][0]']           \n",
      "                                )                                                                 \n",
      "                                                                                                  \n",
      " conv2d_2 (Conv2D)              (None, 256, 256, 12  73856       ['max_pooling2d[0][0]']          \n",
      "                                8)                                                                \n",
      "                                                                                                  \n",
      " batch_normalization_2 (BatchNo  (None, 256, 256, 12  512        ['conv2d_2[0][0]']               \n",
      " rmalization)                   8)                                                                \n",
      "                                                                                                  \n",
      " activation_2 (Activation)      (None, 256, 256, 12  0           ['batch_normalization_2[0][0]']  \n",
      "                                8)                                                                \n",
      "                                                                                                  \n",
      " conv2d_3 (Conv2D)              (None, 256, 256, 12  147584      ['activation_2[0][0]']           \n",
      "                                8)                                                                \n",
      "                                                                                                  \n",
      " batch_normalization_3 (BatchNo  (None, 256, 256, 12  512        ['conv2d_3[0][0]']               \n",
      " rmalization)                   8)                                                                \n",
      "                                                                                                  \n",
      " activation_3 (Activation)      (None, 256, 256, 12  0           ['batch_normalization_3[0][0]']  \n",
      "                                8)                                                                \n",
      "                                                                                                  \n",
      " max_pooling2d_1 (MaxPooling2D)  (None, 128, 128, 12  0          ['activation_3[0][0]']           \n",
      "                                8)                                                                \n",
      "                                                                                                  \n",
      " conv2d_4 (Conv2D)              (None, 128, 128, 25  295168      ['max_pooling2d_1[0][0]']        \n",
      "                                6)                                                                \n",
      "                                                                                                  \n",
      " batch_normalization_4 (BatchNo  (None, 128, 128, 25  1024       ['conv2d_4[0][0]']               \n",
      " rmalization)                   6)                                                                \n",
      "                                                                                                  \n",
      " activation_4 (Activation)      (None, 128, 128, 25  0           ['batch_normalization_4[0][0]']  \n",
      "                                6)                                                                \n",
      "                                                                                                  \n",
      " conv2d_5 (Conv2D)              (None, 128, 128, 25  590080      ['activation_4[0][0]']           \n",
      "                                6)                                                                \n",
      "                                                                                                  \n",
      " batch_normalization_5 (BatchNo  (None, 128, 128, 25  1024       ['conv2d_5[0][0]']               \n",
      " rmalization)                   6)                                                                \n",
      "                                                                                                  \n",
      " activation_5 (Activation)      (None, 128, 128, 25  0           ['batch_normalization_5[0][0]']  \n",
      "                                6)                                                                \n",
      "                                                                                                  \n",
      " max_pooling2d_2 (MaxPooling2D)  (None, 64, 64, 256)  0          ['activation_5[0][0]']           \n",
      "                                                                                                  \n",
      " conv2d_6 (Conv2D)              (None, 64, 64, 512)  1180160     ['max_pooling2d_2[0][0]']        \n",
      "                                                                                                  \n",
      " batch_normalization_6 (BatchNo  (None, 64, 64, 512)  2048       ['conv2d_6[0][0]']               \n",
      " rmalization)                                                                                     \n",
      "                                                                                                  \n",
      " activation_6 (Activation)      (None, 64, 64, 512)  0           ['batch_normalization_6[0][0]']  \n",
      "                                                                                                  \n",
      " conv2d_7 (Conv2D)              (None, 64, 64, 512)  2359808     ['activation_6[0][0]']           \n",
      "                                                                                                  \n",
      " batch_normalization_7 (BatchNo  (None, 64, 64, 512)  2048       ['conv2d_7[0][0]']               \n",
      " rmalization)                                                                                     \n",
      "                                                                                                  \n",
      " activation_7 (Activation)      (None, 64, 64, 512)  0           ['batch_normalization_7[0][0]']  \n",
      "                                                                                                  \n",
      " max_pooling2d_3 (MaxPooling2D)  (None, 32, 32, 512)  0          ['activation_7[0][0]']           \n"
     ]
    },
    {
     "name": "stdout",
     "output_type": "stream",
     "text": [
      "                                                                                                  \n",
      " conv2d_8 (Conv2D)              (None, 32, 32, 1024  4719616     ['max_pooling2d_3[0][0]']        \n",
      "                                )                                                                 \n",
      "                                                                                                  \n",
      " batch_normalization_8 (BatchNo  (None, 32, 32, 1024  4096       ['conv2d_8[0][0]']               \n",
      " rmalization)                   )                                                                 \n",
      "                                                                                                  \n",
      " activation_8 (Activation)      (None, 32, 32, 1024  0           ['batch_normalization_8[0][0]']  \n",
      "                                )                                                                 \n",
      "                                                                                                  \n",
      " conv2d_9 (Conv2D)              (None, 32, 32, 1024  9438208     ['activation_8[0][0]']           \n",
      "                                )                                                                 \n",
      "                                                                                                  \n",
      " batch_normalization_9 (BatchNo  (None, 32, 32, 1024  4096       ['conv2d_9[0][0]']               \n",
      " rmalization)                   )                                                                 \n",
      "                                                                                                  \n",
      " activation_9 (Activation)      (None, 32, 32, 1024  0           ['batch_normalization_9[0][0]']  \n",
      "                                )                                                                 \n",
      "                                                                                                  \n",
      " conv2d_transpose (Conv2DTransp  (None, 64, 64, 512)  2097664    ['activation_9[0][0]']           \n",
      " ose)                                                                                             \n",
      "                                                                                                  \n",
      " concatenate (Concatenate)      (None, 64, 64, 1024  0           ['conv2d_transpose[0][0]',       \n",
      "                                )                                 'activation_7[0][0]']           \n",
      "                                                                                                  \n",
      " conv2d_10 (Conv2D)             (None, 64, 64, 512)  4719104     ['concatenate[0][0]']            \n",
      "                                                                                                  \n",
      " batch_normalization_10 (BatchN  (None, 64, 64, 512)  2048       ['conv2d_10[0][0]']              \n",
      " ormalization)                                                                                    \n",
      "                                                                                                  \n",
      " activation_10 (Activation)     (None, 64, 64, 512)  0           ['batch_normalization_10[0][0]'] \n",
      "                                                                                                  \n",
      " conv2d_11 (Conv2D)             (None, 64, 64, 512)  2359808     ['activation_10[0][0]']          \n",
      "                                                                                                  \n",
      " batch_normalization_11 (BatchN  (None, 64, 64, 512)  2048       ['conv2d_11[0][0]']              \n",
      " ormalization)                                                                                    \n",
      "                                                                                                  \n",
      " activation_11 (Activation)     (None, 64, 64, 512)  0           ['batch_normalization_11[0][0]'] \n",
      "                                                                                                  \n",
      " conv2d_transpose_1 (Conv2DTran  (None, 128, 128, 25  524544     ['activation_11[0][0]']          \n",
      " spose)                         6)                                                                \n",
      "                                                                                                  \n",
      " concatenate_1 (Concatenate)    (None, 128, 128, 51  0           ['conv2d_transpose_1[0][0]',     \n",
      "                                2)                                'activation_5[0][0]']           \n",
      "                                                                                                  \n",
      " conv2d_12 (Conv2D)             (None, 128, 128, 25  1179904     ['concatenate_1[0][0]']          \n",
      "                                6)                                                                \n",
      "                                                                                                  \n",
      " batch_normalization_12 (BatchN  (None, 128, 128, 25  1024       ['conv2d_12[0][0]']              \n",
      " ormalization)                  6)                                                                \n",
      "                                                                                                  \n",
      " activation_12 (Activation)     (None, 128, 128, 25  0           ['batch_normalization_12[0][0]'] \n",
      "                                6)                                                                \n",
      "                                                                                                  \n",
      " conv2d_13 (Conv2D)             (None, 128, 128, 25  590080      ['activation_12[0][0]']          \n",
      "                                6)                                                                \n",
      "                                                                                                  \n",
      " batch_normalization_13 (BatchN  (None, 128, 128, 25  1024       ['conv2d_13[0][0]']              \n",
      " ormalization)                  6)                                                                \n",
      "                                                                                                  \n",
      " activation_13 (Activation)     (None, 128, 128, 25  0           ['batch_normalization_13[0][0]'] \n",
      "                                6)                                                                \n",
      "                                                                                                  \n",
      " conv2d_transpose_2 (Conv2DTran  (None, 256, 256, 12  131200     ['activation_13[0][0]']          \n",
      " spose)                         8)                                                                \n",
      "                                                                                                  \n",
      " concatenate_2 (Concatenate)    (None, 256, 256, 25  0           ['conv2d_transpose_2[0][0]',     \n",
      "                                6)                                'activation_3[0][0]']           \n",
      "                                                                                                  \n",
      " conv2d_14 (Conv2D)             (None, 256, 256, 12  295040      ['concatenate_2[0][0]']          \n",
      "                                8)                                                                \n",
      "                                                                                                  \n",
      " batch_normalization_14 (BatchN  (None, 256, 256, 12  512        ['conv2d_14[0][0]']              \n",
      " ormalization)                  8)                                                                \n",
      "                                                                                                  \n",
      " activation_14 (Activation)     (None, 256, 256, 12  0           ['batch_normalization_14[0][0]'] \n",
      "                                8)                                                                \n",
      "                                                                                                  \n",
      " conv2d_15 (Conv2D)             (None, 256, 256, 12  147584      ['activation_14[0][0]']          \n",
      "                                8)                                                                \n",
      "                                                                                                  \n",
      " batch_normalization_15 (BatchN  (None, 256, 256, 12  512        ['conv2d_15[0][0]']              \n",
      " ormalization)                  8)                                                                \n"
     ]
    },
    {
     "name": "stdout",
     "output_type": "stream",
     "text": [
      "                                                                                                  \n",
      " activation_15 (Activation)     (None, 256, 256, 12  0           ['batch_normalization_15[0][0]'] \n",
      "                                8)                                                                \n",
      "                                                                                                  \n",
      " conv2d_transpose_3 (Conv2DTran  (None, 512, 512, 64  32832      ['activation_15[0][0]']          \n",
      " spose)                         )                                                                 \n",
      "                                                                                                  \n",
      " concatenate_3 (Concatenate)    (None, 512, 512, 12  0           ['conv2d_transpose_3[0][0]',     \n",
      "                                8)                                'activation_1[0][0]']           \n",
      "                                                                                                  \n",
      " conv2d_16 (Conv2D)             (None, 512, 512, 64  73792       ['concatenate_3[0][0]']          \n",
      "                                )                                                                 \n",
      "                                                                                                  \n",
      " batch_normalization_16 (BatchN  (None, 512, 512, 64  256        ['conv2d_16[0][0]']              \n",
      " ormalization)                  )                                                                 \n",
      "                                                                                                  \n",
      " activation_16 (Activation)     (None, 512, 512, 64  0           ['batch_normalization_16[0][0]'] \n",
      "                                )                                                                 \n",
      "                                                                                                  \n",
      " conv2d_17 (Conv2D)             (None, 512, 512, 64  36928       ['activation_16[0][0]']          \n",
      "                                )                                                                 \n",
      "                                                                                                  \n",
      " batch_normalization_17 (BatchN  (None, 512, 512, 64  256        ['conv2d_17[0][0]']              \n",
      " ormalization)                  )                                                                 \n",
      "                                                                                                  \n",
      " activation_17 (Activation)     (None, 512, 512, 64  0           ['batch_normalization_17[0][0]'] \n",
      "                                )                                                                 \n",
      "                                                                                                  \n",
      " conv2d_18 (Conv2D)             (None, 512, 512, 1)  65          ['activation_17[0][0]']          \n",
      "                                                                                                  \n",
      "==================================================================================================\n",
      "Total params: 31,055,297\n",
      "Trainable params: 31,043,521\n",
      "Non-trainable params: 11,776\n",
      "__________________________________________________________________________________________________\n"
     ]
    }
   ],
   "source": [
    "input_shape = (512, 512, 3)\n",
    "model = build_unet(input_shape)\n",
    "model.summary()"
   ]
  },
  {
   "cell_type": "code",
   "execution_count": 18,
   "id": "1c2fd1b6",
   "metadata": {},
   "outputs": [],
   "source": [
    "from tensorflow.keras.utils import CustomObjectScope"
   ]
  },
  {
   "cell_type": "code",
   "execution_count": 19,
   "id": "7266ee8d",
   "metadata": {},
   "outputs": [],
   "source": [
    "#with CustomObjectScope({'iou': iou, 'dice_coef': dice_coef, 'dice_loss': dice_loss}):\n",
    "model = build_unet((H, W, 3))\n",
    "metrics = [dice_coef, iou, Recall(), Precision()]"
   ]
  },
  {
   "cell_type": "code",
   "execution_count": 20,
   "id": "884e0daa",
   "metadata": {},
   "outputs": [],
   "source": [
    "mse_loss = tf.keras.losses.MeanSquaredError()"
   ]
  },
  {
   "cell_type": "code",
   "execution_count": 21,
   "id": "4c7dfe83",
   "metadata": {},
   "outputs": [],
   "source": [
    "model.compile(loss=dice_loss, optimizer=Adam(lr), metrics=metrics)\n"
   ]
  },
  {
   "cell_type": "code",
   "execution_count": 22,
   "id": "b00abaa6",
   "metadata": {},
   "outputs": [],
   "source": [
    "callbacks = [\n",
    "    ModelCheckpoint(model_path, verbose=1, save_best_only=True),\n",
    "    ReduceLROnPlateau(monitor='val_loss', factor=0.1, patience=5, min_lr=1e-7, verbose=1),\n",
    "    CSVLogger(csv_path)\n",
    "]\n"
   ]
  },
  {
   "cell_type": "code",
   "execution_count": 23,
   "id": "944f6a85",
   "metadata": {},
   "outputs": [
    {
     "name": "stdout",
     "output_type": "stream",
     "text": [
      "Epoch 1/30\n"
     ]
    },
    {
     "name": "stderr",
     "output_type": "stream",
     "text": [
      "2022-09-23 08:50:19.877773: I tensorflow/stream_executor/cuda/cuda_dnn.cc:384] Loaded cuDNN version 8204\n"
     ]
    },
    {
     "name": "stdout",
     "output_type": "stream",
     "text": [
      "56/56 [==============================] - ETA: 0s - loss: 0.7348 - dice_coef: 0.2652 - iou: 0.1538 - recall: 0.8477 - precision: 0.2112\n",
      "Epoch 1: val_loss improved from inf to 0.80197, saving model to RightMaskUPTfiles/model.h5\n",
      "56/56 [==============================] - 42s 575ms/step - loss: 0.7348 - dice_coef: 0.2652 - iou: 0.1538 - recall: 0.8477 - precision: 0.2112 - val_loss: 0.8020 - val_dice_coef: 0.1935 - val_iou: 0.1077 - val_recall: 0.9812 - val_precision: 0.1353 - lr: 1.0000e-05\n",
      "Epoch 2/30\n",
      "56/56 [==============================] - ETA: 0s - loss: 0.6205 - dice_coef: 0.3795 - iou: 0.2361 - recall: 0.9507 - precision: 0.2994\n",
      "Epoch 2: val_loss improved from 0.80197 to 0.79768, saving model to RightMaskUPTfiles/model.h5\n",
      "56/56 [==============================] - 33s 587ms/step - loss: 0.6205 - dice_coef: 0.3795 - iou: 0.2361 - recall: 0.9507 - precision: 0.2994 - val_loss: 0.7977 - val_dice_coef: 0.1985 - val_iou: 0.1107 - val_recall: 0.9496 - val_precision: 0.1492 - lr: 1.0000e-05\n",
      "Epoch 3/30\n",
      "56/56 [==============================] - ETA: 0s - loss: 0.4872 - dice_coef: 0.5128 - iou: 0.3476 - recall: 0.9759 - precision: 0.6211\n",
      "Epoch 3: val_loss did not improve from 0.79768\n",
      "56/56 [==============================] - 32s 575ms/step - loss: 0.4872 - dice_coef: 0.5128 - iou: 0.3476 - recall: 0.9759 - precision: 0.6211 - val_loss: 0.8043 - val_dice_coef: 0.1918 - val_iou: 0.1063 - val_recall: 0.4407 - val_precision: 0.1354 - lr: 1.0000e-05\n",
      "Epoch 4/30\n",
      "56/56 [==============================] - ETA: 0s - loss: 0.3967 - dice_coef: 0.6033 - iou: 0.4351 - recall: 0.9759 - precision: 0.8095\n",
      "Epoch 4: val_loss did not improve from 0.79768\n",
      "56/56 [==============================] - 32s 573ms/step - loss: 0.3967 - dice_coef: 0.6033 - iou: 0.4351 - recall: 0.9759 - precision: 0.8095 - val_loss: 0.8218 - val_dice_coef: 0.1735 - val_iou: 0.0955 - val_recall: 0.0086 - val_precision: 0.0052 - lr: 1.0000e-05\n",
      "Epoch 5/30\n",
      "56/56 [==============================] - ETA: 0s - loss: 0.3400 - dice_coef: 0.6600 - iou: 0.4955 - recall: 0.9781 - precision: 0.8898\n",
      "Epoch 5: val_loss did not improve from 0.79768\n",
      "56/56 [==============================] - 32s 569ms/step - loss: 0.3400 - dice_coef: 0.6600 - iou: 0.4955 - recall: 0.9781 - precision: 0.8898 - val_loss: 0.8453 - val_dice_coef: 0.1565 - val_iou: 0.0853 - val_recall: 2.9597e-05 - val_precision: 4.8255e-04 - lr: 1.0000e-05\n",
      "Epoch 6/30\n",
      "56/56 [==============================] - ETA: 0s - loss: 0.3075 - dice_coef: 0.6925 - iou: 0.5322 - recall: 0.9808 - precision: 0.9235\n",
      "Epoch 6: val_loss did not improve from 0.79768\n",
      "56/56 [==============================] - 32s 572ms/step - loss: 0.3075 - dice_coef: 0.6925 - iou: 0.5322 - recall: 0.9808 - precision: 0.9235 - val_loss: 0.8562 - val_dice_coef: 0.1442 - val_iou: 0.0779 - val_recall: 0.0000e+00 - val_precision: 0.0000e+00 - lr: 1.0000e-05\n",
      "Epoch 7/30\n",
      "56/56 [==============================] - ETA: 0s - loss: 0.2898 - dice_coef: 0.7102 - iou: 0.5529 - recall: 0.9814 - precision: 0.9405\n",
      "Epoch 7: val_loss did not improve from 0.79768\n",
      "\n",
      "Epoch 7: ReduceLROnPlateau reducing learning rate to 9.999999747378752e-07.\n",
      "56/56 [==============================] - 32s 572ms/step - loss: 0.2898 - dice_coef: 0.7102 - iou: 0.5529 - recall: 0.9814 - precision: 0.9405 - val_loss: 0.8117 - val_dice_coef: 0.1880 - val_iou: 0.1041 - val_recall: 0.0618 - val_precision: 0.8343 - lr: 1.0000e-05\n",
      "Epoch 8/30\n",
      "56/56 [==============================] - ETA: 0s - loss: 0.2821 - dice_coef: 0.7179 - iou: 0.5628 - recall: 0.9843 - precision: 0.9459\n",
      "Epoch 8: val_loss improved from 0.79768 to 0.51209, saving model to RightMaskUPTfiles/model.h5\n",
      "56/56 [==============================] - 33s 589ms/step - loss: 0.2821 - dice_coef: 0.7179 - iou: 0.5628 - recall: 0.9843 - precision: 0.9459 - val_loss: 0.5121 - val_dice_coef: 0.4985 - val_iou: 0.3345 - val_recall: 0.5443 - val_precision: 0.9603 - lr: 1.0000e-06\n",
      "Epoch 9/30\n",
      "56/56 [==============================] - ETA: 0s - loss: 0.2750 - dice_coef: 0.7250 - iou: 0.5702 - recall: 0.9861 - precision: 0.9528\n",
      "Epoch 9: val_loss improved from 0.51209 to 0.36397, saving model to RightMaskUPTfiles/model.h5\n",
      "56/56 [==============================] - 33s 585ms/step - loss: 0.2750 - dice_coef: 0.7250 - iou: 0.5702 - recall: 0.9861 - precision: 0.9528 - val_loss: 0.3640 - val_dice_coef: 0.6394 - val_iou: 0.4728 - val_recall: 0.8401 - val_precision: 0.9282 - lr: 1.0000e-06\n",
      "Epoch 10/30\n",
      "56/56 [==============================] - ETA: 0s - loss: 0.2782 - dice_coef: 0.7218 - iou: 0.5670 - recall: 0.9853 - precision: 0.9530\n",
      "Epoch 10: val_loss improved from 0.36397 to 0.33475, saving model to RightMaskUPTfiles/model.h5\n",
      "56/56 [==============================] - 33s 585ms/step - loss: 0.2782 - dice_coef: 0.7218 - iou: 0.5670 - recall: 0.9853 - precision: 0.9530 - val_loss: 0.3347 - val_dice_coef: 0.6482 - val_iou: 0.4863 - val_recall: 0.9002 - val_precision: 0.9065 - lr: 1.0000e-06\n",
      "Epoch 11/30\n",
      "56/56 [==============================] - ETA: 0s - loss: 0.2753 - dice_coef: 0.7247 - iou: 0.5706 - recall: 0.9860 - precision: 0.9551\n",
      "Epoch 11: val_loss improved from 0.33475 to 0.31289, saving model to RightMaskUPTfiles/model.h5\n",
      "56/56 [==============================] - 34s 598ms/step - loss: 0.2753 - dice_coef: 0.7247 - iou: 0.5706 - recall: 0.9860 - precision: 0.9551 - val_loss: 0.3129 - val_dice_coef: 0.6932 - val_iou: 0.5332 - val_recall: 0.9137 - val_precision: 0.9218 - lr: 1.0000e-06\n",
      "Epoch 12/30\n",
      "56/56 [==============================] - ETA: 0s - loss: 0.2764 - dice_coef: 0.7236 - iou: 0.5699 - recall: 0.9860 - precision: 0.9531\n",
      "Epoch 12: val_loss improved from 0.31289 to 0.30664, saving model to RightMaskUPTfiles/model.h5\n",
      "56/56 [==============================] - 33s 589ms/step - loss: 0.2764 - dice_coef: 0.7236 - iou: 0.5699 - recall: 0.9860 - precision: 0.9531 - val_loss: 0.3066 - val_dice_coef: 0.6976 - val_iou: 0.5401 - val_recall: 0.9236 - val_precision: 0.9381 - lr: 1.0000e-06\n",
      "Epoch 13/30\n",
      "56/56 [==============================] - ETA: 0s - loss: 0.2740 - dice_coef: 0.7260 - iou: 0.5721 - recall: 0.9858 - precision: 0.9556\n",
      "Epoch 13: val_loss improved from 0.30664 to 0.30490, saving model to RightMaskUPTfiles/model.h5\n",
      "56/56 [==============================] - 33s 583ms/step - loss: 0.2740 - dice_coef: 0.7260 - iou: 0.5721 - recall: 0.9858 - precision: 0.9556 - val_loss: 0.3049 - val_dice_coef: 0.6989 - val_iou: 0.5425 - val_recall: 0.9308 - val_precision: 0.9302 - lr: 1.0000e-06\n",
      "Epoch 14/30\n",
      "56/56 [==============================] - ETA: 0s - loss: 0.2741 - dice_coef: 0.7259 - iou: 0.5725 - recall: 0.9865 - precision: 0.9554\n",
      "Epoch 14: val_loss improved from 0.30490 to 0.30304, saving model to RightMaskUPTfiles/model.h5\n",
      "56/56 [==============================] - 33s 588ms/step - loss: 0.2741 - dice_coef: 0.7259 - iou: 0.5725 - recall: 0.9865 - precision: 0.9554 - val_loss: 0.3030 - val_dice_coef: 0.7036 - val_iou: 0.5470 - val_recall: 0.9312 - val_precision: 0.9376 - lr: 1.0000e-06\n",
      "Epoch 15/30\n",
      "56/56 [==============================] - ETA: 0s - loss: 0.2721 - dice_coef: 0.7279 - iou: 0.5748 - recall: 0.9866 - precision: 0.9566\n",
      "Epoch 15: val_loss improved from 0.30304 to 0.29819, saving model to RightMaskUPTfiles/model.h5\n",
      "56/56 [==============================] - 33s 586ms/step - loss: 0.2721 - dice_coef: 0.7279 - iou: 0.5748 - recall: 0.9866 - precision: 0.9566 - val_loss: 0.2982 - val_dice_coef: 0.6898 - val_iou: 0.5315 - val_recall: 0.9293 - val_precision: 0.9421 - lr: 1.0000e-06\n",
      "Epoch 16/30\n",
      "56/56 [==============================] - ETA: 0s - loss: 0.2700 - dice_coef: 0.7300 - iou: 0.5769 - recall: 0.9870 - precision: 0.9577\n",
      "Epoch 16: val_loss improved from 0.29819 to 0.29451, saving model to RightMaskUPTfiles/model.h5\n",
      "56/56 [==============================] - 33s 584ms/step - loss: 0.2700 - dice_coef: 0.7300 - iou: 0.5769 - recall: 0.9870 - precision: 0.9577 - val_loss: 0.2945 - val_dice_coef: 0.7117 - val_iou: 0.5546 - val_recall: 0.9325 - val_precision: 0.9400 - lr: 1.0000e-06\n",
      "Epoch 17/30\n",
      "56/56 [==============================] - ETA: 0s - loss: 0.2681 - dice_coef: 0.7319 - iou: 0.5793 - recall: 0.9867 - precision: 0.9594\n",
      "Epoch 17: val_loss improved from 0.29451 to 0.29430, saving model to RightMaskUPTfiles/model.h5\n",
      "56/56 [==============================] - 33s 583ms/step - loss: 0.2681 - dice_coef: 0.7319 - iou: 0.5793 - recall: 0.9867 - precision: 0.9594 - val_loss: 0.2943 - val_dice_coef: 0.7094 - val_iou: 0.5525 - val_recall: 0.9332 - val_precision: 0.9379 - lr: 1.0000e-06\n"
     ]
    },
    {
     "name": "stdout",
     "output_type": "stream",
     "text": [
      "Epoch 18/30\n",
      "56/56 [==============================] - ETA: 0s - loss: 0.2705 - dice_coef: 0.7295 - iou: 0.5771 - recall: 0.9879 - precision: 0.9566\n",
      "Epoch 18: val_loss did not improve from 0.29430\n",
      "56/56 [==============================] - 32s 571ms/step - loss: 0.2705 - dice_coef: 0.7295 - iou: 0.5771 - recall: 0.9879 - precision: 0.9566 - val_loss: 0.3003 - val_dice_coef: 0.7020 - val_iou: 0.5467 - val_recall: 0.9301 - val_precision: 0.9462 - lr: 1.0000e-06\n",
      "Epoch 19/30\n",
      "56/56 [==============================] - ETA: 0s - loss: 0.2661 - dice_coef: 0.7339 - iou: 0.5813 - recall: 0.9868 - precision: 0.9611\n",
      "Epoch 19: val_loss did not improve from 0.29430\n",
      "56/56 [==============================] - 32s 567ms/step - loss: 0.2661 - dice_coef: 0.7339 - iou: 0.5813 - recall: 0.9868 - precision: 0.9611 - val_loss: 0.2994 - val_dice_coef: 0.7054 - val_iou: 0.5510 - val_recall: 0.9291 - val_precision: 0.9481 - lr: 1.0000e-06\n",
      "Epoch 20/30\n",
      "56/56 [==============================] - ETA: 0s - loss: 0.2655 - dice_coef: 0.7345 - iou: 0.5822 - recall: 0.9868 - precision: 0.9593\n",
      "Epoch 20: val_loss improved from 0.29430 to 0.29060, saving model to RightMaskUPTfiles/model.h5\n",
      "56/56 [==============================] - 33s 585ms/step - loss: 0.2655 - dice_coef: 0.7345 - iou: 0.5822 - recall: 0.9868 - precision: 0.9593 - val_loss: 0.2906 - val_dice_coef: 0.6981 - val_iou: 0.5405 - val_recall: 0.9315 - val_precision: 0.9478 - lr: 1.0000e-06\n",
      "Epoch 21/30\n",
      "56/56 [==============================] - ETA: 0s - loss: 0.2675 - dice_coef: 0.7325 - iou: 0.5809 - recall: 0.9869 - precision: 0.9608\n",
      "Epoch 21: val_loss did not improve from 0.29060\n",
      "56/56 [==============================] - 33s 578ms/step - loss: 0.2675 - dice_coef: 0.7325 - iou: 0.5809 - recall: 0.9869 - precision: 0.9608 - val_loss: 0.2967 - val_dice_coef: 0.7101 - val_iou: 0.5561 - val_recall: 0.9299 - val_precision: 0.9494 - lr: 1.0000e-06\n",
      "Epoch 22/30\n",
      "56/56 [==============================] - ETA: 0s - loss: 0.2665 - dice_coef: 0.7335 - iou: 0.5819 - recall: 0.9875 - precision: 0.9599\n",
      "Epoch 22: val_loss did not improve from 0.29060\n",
      "56/56 [==============================] - 32s 567ms/step - loss: 0.2665 - dice_coef: 0.7335 - iou: 0.5819 - recall: 0.9875 - precision: 0.9599 - val_loss: 0.2963 - val_dice_coef: 0.7079 - val_iou: 0.5519 - val_recall: 0.9341 - val_precision: 0.9411 - lr: 1.0000e-06\n",
      "Epoch 23/30\n",
      "56/56 [==============================] - ETA: 0s - loss: 0.2650 - dice_coef: 0.7350 - iou: 0.5844 - recall: 0.9879 - precision: 0.9604\n",
      "Epoch 23: val_loss improved from 0.29060 to 0.28793, saving model to RightMaskUPTfiles/model.h5\n",
      "56/56 [==============================] - 33s 585ms/step - loss: 0.2650 - dice_coef: 0.7350 - iou: 0.5844 - recall: 0.9879 - precision: 0.9604 - val_loss: 0.2879 - val_dice_coef: 0.7002 - val_iou: 0.5431 - val_recall: 0.9316 - val_precision: 0.9463 - lr: 1.0000e-06\n",
      "Epoch 24/30\n",
      "56/56 [==============================] - ETA: 0s - loss: 0.2665 - dice_coef: 0.7335 - iou: 0.5827 - recall: 0.9874 - precision: 0.9619\n",
      "Epoch 24: val_loss did not improve from 0.28793\n",
      "56/56 [==============================] - 32s 570ms/step - loss: 0.2665 - dice_coef: 0.7335 - iou: 0.5827 - recall: 0.9874 - precision: 0.9619 - val_loss: 0.2948 - val_dice_coef: 0.7074 - val_iou: 0.5535 - val_recall: 0.9339 - val_precision: 0.9426 - lr: 1.0000e-06\n",
      "Epoch 25/30\n",
      "56/56 [==============================] - ETA: 0s - loss: 0.2609 - dice_coef: 0.7391 - iou: 0.5882 - recall: 0.9879 - precision: 0.9629\n",
      "Epoch 25: val_loss did not improve from 0.28793\n",
      "56/56 [==============================] - 32s 568ms/step - loss: 0.2609 - dice_coef: 0.7391 - iou: 0.5882 - recall: 0.9879 - precision: 0.9629 - val_loss: 0.2945 - val_dice_coef: 0.6908 - val_iou: 0.5356 - val_recall: 0.9354 - val_precision: 0.9405 - lr: 1.0000e-06\n",
      "Epoch 26/30\n",
      "56/56 [==============================] - ETA: 0s - loss: 0.2611 - dice_coef: 0.7389 - iou: 0.5882 - recall: 0.9886 - precision: 0.9616\n",
      "Epoch 26: val_loss improved from 0.28793 to 0.28713, saving model to RightMaskUPTfiles/model.h5\n",
      "56/56 [==============================] - 33s 584ms/step - loss: 0.2611 - dice_coef: 0.7389 - iou: 0.5882 - recall: 0.9886 - precision: 0.9616 - val_loss: 0.2871 - val_dice_coef: 0.7194 - val_iou: 0.5641 - val_recall: 0.9296 - val_precision: 0.9503 - lr: 1.0000e-06\n",
      "Epoch 27/30\n",
      "56/56 [==============================] - ETA: 0s - loss: 0.2594 - dice_coef: 0.7406 - iou: 0.5901 - recall: 0.9881 - precision: 0.9640\n",
      "Epoch 27: val_loss did not improve from 0.28713\n",
      "56/56 [==============================] - 32s 568ms/step - loss: 0.2594 - dice_coef: 0.7406 - iou: 0.5901 - recall: 0.9881 - precision: 0.9640 - val_loss: 0.2915 - val_dice_coef: 0.7125 - val_iou: 0.5584 - val_recall: 0.9350 - val_precision: 0.9447 - lr: 1.0000e-06\n",
      "Epoch 28/30\n",
      "56/56 [==============================] - ETA: 0s - loss: 0.2589 - dice_coef: 0.7411 - iou: 0.5909 - recall: 0.9893 - precision: 0.9622\n",
      "Epoch 28: val_loss did not improve from 0.28713\n",
      "56/56 [==============================] - 32s 567ms/step - loss: 0.2589 - dice_coef: 0.7411 - iou: 0.5909 - recall: 0.9893 - precision: 0.9622 - val_loss: 0.2881 - val_dice_coef: 0.7184 - val_iou: 0.5641 - val_recall: 0.9348 - val_precision: 0.9468 - lr: 1.0000e-06\n",
      "Epoch 29/30\n",
      "56/56 [==============================] - ETA: 0s - loss: 0.2586 - dice_coef: 0.7414 - iou: 0.5915 - recall: 0.9888 - precision: 0.9652\n",
      "Epoch 29: val_loss improved from 0.28713 to 0.28377, saving model to RightMaskUPTfiles/model.h5\n",
      "56/56 [==============================] - 33s 583ms/step - loss: 0.2586 - dice_coef: 0.7414 - iou: 0.5915 - recall: 0.9888 - precision: 0.9652 - val_loss: 0.2838 - val_dice_coef: 0.7206 - val_iou: 0.5651 - val_recall: 0.9318 - val_precision: 0.9502 - lr: 1.0000e-06\n",
      "Epoch 30/30\n",
      "56/56 [==============================] - ETA: 0s - loss: 0.2578 - dice_coef: 0.7422 - iou: 0.5923 - recall: 0.9879 - precision: 0.9657\n",
      "Epoch 30: val_loss did not improve from 0.28377\n",
      "56/56 [==============================] - 32s 568ms/step - loss: 0.2578 - dice_coef: 0.7422 - iou: 0.5923 - recall: 0.9879 - precision: 0.9657 - val_loss: 0.2891 - val_dice_coef: 0.7086 - val_iou: 0.5526 - val_recall: 0.9322 - val_precision: 0.9502 - lr: 1.0000e-06\n"
     ]
    },
    {
     "data": {
      "text/plain": [
       "<keras.callbacks.History at 0x7f6c8c04c370>"
      ]
     },
     "execution_count": 23,
     "metadata": {},
     "output_type": "execute_result"
    }
   ],
   "source": [
    "model.fit(\n",
    "    train_dataset,\n",
    "    epochs=num_epochs,\n",
    "    validation_data=valid_dataset,\n",
    "    callbacks=callbacks\n",
    ")"
   ]
  },
  {
   "cell_type": "code",
   "execution_count": 24,
   "id": "58da7d76",
   "metadata": {},
   "outputs": [
    {
     "name": "stderr",
     "output_type": "stream",
     "text": [
      "\r",
      "  0%|                                                                                                                | 0/13 [00:00<?, ?it/s]"
     ]
    },
    {
     "name": "stdout",
     "output_type": "stream",
     "text": [
      "1/1 [==============================] - 0s 290ms/step\n"
     ]
    },
    {
     "name": "stderr",
     "output_type": "stream",
     "text": [
      "\r",
      "  8%|████████                                                                                                | 1/13 [00:00<00:06,  1.80it/s]"
     ]
    },
    {
     "name": "stdout",
     "output_type": "stream",
     "text": [
      "1/1 [==============================] - 0s 18ms/step\n"
     ]
    },
    {
     "name": "stderr",
     "output_type": "stream",
     "text": [
      "\r",
      " 15%|████████████████                                                                                        | 2/13 [00:00<00:04,  2.50it/s]"
     ]
    },
    {
     "name": "stdout",
     "output_type": "stream",
     "text": [
      "1/1 [==============================] - 0s 20ms/step\n"
     ]
    },
    {
     "name": "stderr",
     "output_type": "stream",
     "text": [
      "\r",
      " 23%|████████████████████████                                                                                | 3/13 [00:01<00:03,  2.75it/s]"
     ]
    },
    {
     "name": "stdout",
     "output_type": "stream",
     "text": [
      "1/1 [==============================] - 0s 24ms/step\n"
     ]
    },
    {
     "name": "stderr",
     "output_type": "stream",
     "text": [
      "\r",
      " 31%|████████████████████████████████                                                                        | 4/13 [00:01<00:03,  2.77it/s]"
     ]
    },
    {
     "name": "stdout",
     "output_type": "stream",
     "text": [
      "1/1 [==============================] - 0s 20ms/step\n"
     ]
    },
    {
     "name": "stderr",
     "output_type": "stream",
     "text": [
      "\r",
      " 38%|████████████████████████████████████████                                                                | 5/13 [00:01<00:02,  2.97it/s]"
     ]
    },
    {
     "name": "stdout",
     "output_type": "stream",
     "text": [
      "1/1 [==============================] - 0s 24ms/step\n"
     ]
    },
    {
     "name": "stderr",
     "output_type": "stream",
     "text": [
      "\r",
      " 46%|████████████████████████████████████████████████                                                        | 6/13 [00:02<00:02,  3.02it/s]"
     ]
    },
    {
     "name": "stdout",
     "output_type": "stream",
     "text": [
      "1/1 [==============================] - 0s 18ms/step\n"
     ]
    },
    {
     "name": "stderr",
     "output_type": "stream",
     "text": [
      "\r",
      " 54%|████████████████████████████████████████████████████████                                                | 7/13 [00:02<00:01,  3.09it/s]"
     ]
    },
    {
     "name": "stdout",
     "output_type": "stream",
     "text": [
      "1/1 [==============================] - 0s 19ms/step\n"
     ]
    },
    {
     "name": "stderr",
     "output_type": "stream",
     "text": [
      "\r",
      " 62%|████████████████████████████████████████████████████████████████                                        | 8/13 [00:02<00:01,  3.13it/s]"
     ]
    },
    {
     "name": "stdout",
     "output_type": "stream",
     "text": [
      "1/1 [==============================] - 0s 19ms/step\n"
     ]
    },
    {
     "name": "stderr",
     "output_type": "stream",
     "text": [
      "\r",
      " 69%|████████████████████████████████████████████████████████████████████████                                | 9/13 [00:03<00:01,  3.18it/s]"
     ]
    },
    {
     "name": "stdout",
     "output_type": "stream",
     "text": [
      "1/1 [==============================] - 0s 23ms/step\n"
     ]
    },
    {
     "name": "stderr",
     "output_type": "stream",
     "text": [
      "\r",
      " 77%|███████████████████████████████████████████████████████████████████████████████▏                       | 10/13 [00:03<00:00,  3.18it/s]"
     ]
    },
    {
     "name": "stdout",
     "output_type": "stream",
     "text": [
      "1/1 [==============================] - 0s 17ms/step\n"
     ]
    },
    {
     "name": "stderr",
     "output_type": "stream",
     "text": [
      "\r",
      " 85%|███████████████████████████████████████████████████████████████████████████████████████▏               | 11/13 [00:03<00:00,  3.23it/s]"
     ]
    },
    {
     "name": "stdout",
     "output_type": "stream",
     "text": [
      "1/1 [==============================] - 0s 20ms/step\n"
     ]
    },
    {
     "name": "stderr",
     "output_type": "stream",
     "text": [
      "\r",
      " 92%|███████████████████████████████████████████████████████████████████████████████████████████████        | 12/13 [00:03<00:00,  3.21it/s]"
     ]
    },
    {
     "name": "stdout",
     "output_type": "stream",
     "text": [
      "1/1 [==============================] - 0s 20ms/step\n"
     ]
    },
    {
     "name": "stderr",
     "output_type": "stream",
     "text": [
      "100%|███████████████████████████████████████████████████████████████████████████████████████████████████████| 13/13 [00:04<00:00,  3.01it/s]\n"
     ]
    }
   ],
   "source": [
    "\"\"\" Predicting the mask \"\"\"\n",
    "for x, y in tqdm(zip(test_x, test_y), total=len(test_x)):\n",
    "    \"\"\" Extracing the image name. \"\"\"\n",
    "    image_name = x.split(\"/\")[-1]\n",
    "\n",
    "    \"\"\" Reading the image \"\"\"\n",
    "    ori_x = cv2.imread(x, cv2.IMREAD_COLOR)\n",
    "    ori_x = cv2.resize(ori_x, (W, H))\n",
    "    x = ori_x/255.0\n",
    "    x = x.astype(np.float32)\n",
    "    x = np.expand_dims(x, axis=0)\n",
    "\n",
    "    \"\"\" Reading the mask \"\"\"\n",
    "    ori_y = cv2.imread(y, cv2.IMREAD_GRAYSCALE)\n",
    "    ori_y = cv2.resize(ori_y, (W, H))\n",
    "    ori_y = np.expand_dims(ori_y, axis=-1)  ## (512, 512, 1)\n",
    "    ori_y = np.concatenate([ori_y, ori_y, ori_y], axis=-1)  ## (512, 512, 3)\n",
    "\n",
    "    \"\"\" Predicting the mask. \"\"\"\n",
    "    y_pred = model.predict(x)[0] > 0.5\n",
    "    y_pred = y_pred.astype(np.int32)\n",
    "\n",
    "    \"\"\" Saving the predicted mask along with the image and GT \"\"\"\n",
    "    save_image_path = f\"RightMaskUPTfiles/{image_name}\"\n",
    "    y_pred = np.concatenate([y_pred, y_pred, y_pred], axis=-1)\n",
    "\n",
    "    sep_line = np.ones((H, 10, 3)) * 255\n",
    "\n",
    "    cat_image = np.concatenate([ori_x, sep_line, ori_y, sep_line, y_pred*255], axis=1)\n",
    "    cv2.imwrite(save_image_path, cat_image)"
   ]
  },
  {
   "cell_type": "code",
   "execution_count": null,
   "id": "f086f094",
   "metadata": {},
   "outputs": [],
   "source": []
  },
  {
   "cell_type": "code",
   "execution_count": null,
   "id": "25d3d30c",
   "metadata": {},
   "outputs": [],
   "source": []
  }
 ],
 "metadata": {
  "kernelspec": {
   "display_name": "Python 3 (ipykernel)",
   "language": "python",
   "name": "python3"
  },
  "language_info": {
   "codemirror_mode": {
    "name": "ipython",
    "version": 3
   },
   "file_extension": ".py",
   "mimetype": "text/x-python",
   "name": "python",
   "nbconvert_exporter": "python",
   "pygments_lexer": "ipython3",
   "version": "3.9.12"
  }
 },
 "nbformat": 4,
 "nbformat_minor": 5
}
